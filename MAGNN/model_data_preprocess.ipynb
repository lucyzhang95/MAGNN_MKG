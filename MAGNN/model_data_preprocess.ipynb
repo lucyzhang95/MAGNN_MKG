{
 "cells": [
  {
   "cell_type": "code",
   "id": "initial_id",
   "metadata": {
    "collapsed": true,
    "ExecuteTime": {
     "end_time": "2024-12-13T09:47:50.790471Z",
     "start_time": "2024-12-13T09:47:49.993265Z"
    }
   },
   "source": [
    "import os\n",
    "\n",
    "import pandas as pd\n",
    "import numpy as np\n",
    "from scipy.sparse import csr_matrix, save_npz\n",
    "\n",
    "from MAGNN_utils.preprocess import (\n",
    "    get_column,\n",
    "    assign_index,\n",
    "    map_index_to_relation_file,\n",
    "    export_index2dat,\n",
    "    split_date,\n",
    "    save_split_data2npz,\n",
    "    generate_triplet_array,\n",
    "    generate_long_relationship_array,\n",
    "    lexicographical_sort,\n",
    "    process_and_save_metapath_idx_in_batches,\n",
    "    process_and_save_adjlist_in_batches\n",
    ")"
   ],
   "outputs": [],
   "execution_count": 1
  },
  {
   "metadata": {},
   "cell_type": "markdown",
   "source": "# Input data preprocess",
   "id": "4814f22f13e2ef60"
  },
  {
   "metadata": {
    "ExecuteTime": {
     "end_time": "2024-12-13T09:47:57.228797Z",
     "start_time": "2024-12-13T09:47:57.226233Z"
    }
   },
   "cell_type": "code",
   "source": [
    "# list all file paths for the original relation .dat files\n",
    "file_path = os.getcwd()\n",
    "# file 1, 2: microbe-disease\n",
    "file1 = os.path.join(file_path, \"../data\", \"MAGNN_data\", \"disbiome_taxid_mondo.dat\")\n",
    "file2 = os.path.join(file_path, \"../data\", \"MAGNN_data\", \"gmmad2_taxid_mondo.dat\")\n",
    "# file 3, 4: microbe-metabolite\n",
    "file3 = os.path.join(file_path, \"../data\", \"MAGNN_data\", \"gmmad2_taxid_met.dat\")\n",
    "file4 = os.path.join(file_path, \"../data\", \"MAGNN_data\", \"hmdb_taxid_met.dat\")\n",
    "# file 5: metabolite-disease\n",
    "file5 = os.path.join(file_path, \"../data\", \"MAGNN_data\", \"hmdb_met_disease.dat\")"
   ],
   "id": "387a6ed3b6f739ce",
   "outputs": [],
   "execution_count": 3
  },
  {
   "metadata": {
    "ExecuteTime": {
     "end_time": "2024-12-13T09:48:00.448037Z",
     "start_time": "2024-12-13T09:47:59.736532Z"
    }
   },
   "cell_type": "code",
   "source": [
    "# get entity columns individually\n",
    "microbes1 = get_column(file1, colname1=\"Microbe\", colname2=\"Disease\", col=\"col1\")\n",
    "microbes2 = get_column(file2, colname1=\"Microbe\", colname2=\"Disease\", col=\"col1\")\n",
    "microbes3 = get_column(file3, colname1=\"Microbe\", colname2=\"Metabolite\", col=\"col1\")\n",
    "microbes4 = get_column(file4, colname1=\"Microbe\", colname2=\"Metabolite\", col=\"col1\")\n",
    "all_microbes = assign_index([microbes1, microbes2, microbes3, microbes4])\n",
    "\n",
    "disease1 = get_column(file1, colname1=\"Microbe\", colname2=\"Disease\", col=\"col2\")\n",
    "disease2 = get_column(file2, colname1=\"Microbe\", colname2=\"Disease\", col=\"col2\")\n",
    "disease3 = get_column(file5, colname1=\"Metabolite\", colname2=\"Disease\", col=\"col2\")\n",
    "all_diseases = assign_index([disease1, disease2, disease3])\n",
    "\n",
    "metabolite1 = get_column(file3, colname1=\"Microbe\", colname2=\"Metabolite\", col=\"col2\")\n",
    "metabolite2 = get_column(file4, colname1=\"Microbe\", colname2=\"Metabolite\", col=\"col2\")\n",
    "metabolite3 = get_column(file5, colname1=\"Metabolite\", colname2=\"Disease\", col=\"col1\")\n",
    "all_metabolites = assign_index([metabolite1, metabolite2, metabolite3])"
   ],
   "id": "7ab6766de158184a",
   "outputs": [],
   "execution_count": 4
  },
  {
   "metadata": {
    "ExecuteTime": {
     "end_time": "2024-12-13T09:48:02.051525Z",
     "start_time": "2024-12-13T09:48:02.029392Z"
    }
   },
   "cell_type": "code",
   "source": [
    "# export index file to MAGNN_MKG/MAGNN/data\n",
    "export_index2dat(all_microbes, \"data/raw/microbe_index.dat\")\n",
    "export_index2dat(all_metabolites, \"data/raw/metabolite_index.dat\")\n",
    "export_index2dat(all_diseases, \"data/raw/disease_index.dat\")"
   ],
   "id": "394fb593048cf912",
   "outputs": [],
   "execution_count": 5
  },
  {
   "metadata": {
    "ExecuteTime": {
     "end_time": "2024-12-13T09:48:05.887689Z",
     "start_time": "2024-12-13T09:48:05.349070Z"
    }
   },
   "cell_type": "code",
   "source": [
    "# merge two relation dfs together\n",
    "md_merged_df = map_index_to_relation_file([file1, file2], \"Microbe\", \"Disease\", all_microbes, all_diseases)\n",
    "mm_df = map_index_to_relation_file([file3, file4], \"Microbe\", \"Metabolite\", all_microbes, all_metabolites)\n",
    "metd_df = map_index_to_relation_file([file5], \"Metabolite\", \"Disease\", all_metabolites, all_diseases)"
   ],
   "id": "ae7a5f6266f518b2",
   "outputs": [],
   "execution_count": 6
  },
  {
   "metadata": {
    "ExecuteTime": {
     "end_time": "2024-12-13T09:48:07.945538Z",
     "start_time": "2024-12-13T09:48:07.578525Z"
    }
   },
   "cell_type": "code",
   "source": [
    "# export relational dfs to .dat files\n",
    "export_index2dat(md_merged_df, \"data/raw/microbe_disease_idx.dat\")\n",
    "export_index2dat(mm_df, \"data/raw/microbe_metabolite_idx.dat\")\n",
    "export_index2dat(metd_df, \"data/raw/metabolite_disease_idx.dat\")"
   ],
   "id": "3e889234a60fb9e5",
   "outputs": [],
   "execution_count": 7
  },
  {
   "metadata": {},
   "cell_type": "markdown",
   "source": "## Statistics of total count of each entity and edges",
   "id": "c533e1445797dcaa"
  },
  {
   "metadata": {
    "ExecuteTime": {
     "end_time": "2024-12-13T09:48:14.580550Z",
     "start_time": "2024-12-13T09:48:14.563944Z"
    }
   },
   "cell_type": "code",
   "source": [
    "microbe_idx = pd.read_csv(\"data/raw/microbe_index.dat\", header=None, names=[\"Microbe\", \"Idx\"])\n",
    "print(f\"Total number of microbes: {microbe_idx.shape[0]}\")\n",
    "metabolite_idx = pd.read_csv(\"data/raw/metabolite_index.dat\", header=None, names=[\"Metabolite\", \"Idx\"])\n",
    "print(f\"Total number of metabolites: {metabolite_idx.shape[0]}\")\n",
    "disease_idx = pd.read_csv(\"data/raw/disease_index.dat\", header=None, names=[\"Disease\", \"Idx\"])\n",
    "print(f\"Total number of diseases: {disease_idx.shape[0]}\")"
   ],
   "id": "2b53bdd5aaeed3cf",
   "outputs": [
    {
     "name": "stdout",
     "output_type": "stream",
     "text": [
      "Total number of microbes: 8202\n",
      "Total number of metabolites: 23823\n",
      "Total number of diseases: 898\n"
     ]
    }
   ],
   "execution_count": 8
  },
  {
   "metadata": {
    "ExecuteTime": {
     "end_time": "2024-12-13T09:48:16.336254Z",
     "start_time": "2024-12-13T09:48:16.262873Z"
    }
   },
   "cell_type": "code",
   "source": [
    "microbe_disease = pd.read_csv(\"data/raw/microbe_disease_idx.dat\", encoding='utf-8', delimiter='\\t', names=['MicrobeIdx', 'DiseaseIdx'])\n",
    "print(f\"Total edges between microbe-disease: {microbe_disease.shape[0]}\")\n",
    "microbe_metabolite = pd.read_csv('data/raw/microbe_metabolite_idx.dat', encoding='utf-8', delimiter='\\t', names=['MicrobeIdx', 'MetaboliteIdx'])\n",
    "print(f\"Total edges between microbe-metabolite: {microbe_metabolite.shape[0]}\")\n",
    "metabolite_disease = pd.read_csv('data/raw/metabolite_disease_idx.dat', encoding='utf-8', delimiter='\\t', names=['MetaboliteIdx', 'DiseaseIdx'])\n",
    "print(f\"Total edges between metabolite-disease: {metabolite_disease.shape[0]}\")"
   ],
   "id": "13d725237cffedf2",
   "outputs": [
    {
     "name": "stdout",
     "output_type": "stream",
     "text": [
      "Total edges between microbe-disease: 505852\n",
      "Total edges between microbe-metabolite: 599202\n",
      "Total edges between metabolite-disease: 27546\n"
     ]
    }
   ],
   "execution_count": 9
  },
  {
   "metadata": {},
   "cell_type": "markdown",
   "source": "# Create adjacency matrix",
   "id": "f10a944b0a5b53bd"
  },
  {
   "metadata": {
    "ExecuteTime": {
     "end_time": "2024-12-13T09:48:18.897474Z",
     "start_time": "2024-12-13T09:48:18.895693Z"
    }
   },
   "cell_type": "code",
   "source": "save_prefix = \"data/preprocessed/\"",
   "id": "c2a7bad63644bb0c",
   "outputs": [],
   "execution_count": 10
  },
  {
   "metadata": {
    "ExecuteTime": {
     "end_time": "2024-12-13T09:48:20.927249Z",
     "start_time": "2024-12-13T09:48:20.854035Z"
    }
   },
   "cell_type": "code",
   "source": [
    "microbe_disease = pd.read_csv(\"data/raw/microbe_disease_idx.dat\", encoding='utf-8', delimiter='\\t', names=['MicrobeIdx', 'DiseaseIdx'])\n",
    "microbe_metabolite = pd.read_csv('data/raw/microbe_metabolite_idx.dat', encoding='utf-8', delimiter='\\t', names=['MicrobeIdx', 'MetaboliteIdx'])\n",
    "metabolite_disease = pd.read_csv('data/raw/metabolite_disease_idx.dat', encoding='utf-8', delimiter='\\t', names=['MetaboliteIdx', 'DiseaseIdx'])\n",
    "num_microbe = 8202\n",
    "num_metabolite = 23823\n",
    "num_disease = 898"
   ],
   "id": "dd7f1888ce6daaf2",
   "outputs": [],
   "execution_count": 11
  },
  {
   "metadata": {
    "ExecuteTime": {
     "end_time": "2024-12-13T09:48:36.785904Z",
     "start_time": "2024-12-13T09:48:24.237939Z"
    }
   },
   "cell_type": "code",
   "source": [
    "# build adjacency matrix\n",
    "# 0 for microbe, 1 for disease, 2 for metabolite\n",
    "dim = num_microbe + num_disease + num_metabolite\n",
    "\n",
    "type_mask = np.zeros(dim, dtype=np.int16)\n",
    "type_mask[num_microbe:num_microbe+num_disease] = 1\n",
    "type_mask[num_microbe+num_disease:]= 2\n",
    "\n",
    "adjM = np.zeros((dim, dim), dtype=np.int16)\n",
    "for _, row in microbe_disease.iterrows():\n",
    "    microID = row[\"MicrobeIdx\"]\n",
    "    diseaseID = num_microbe + row[\"DiseaseIdx\"]\n",
    "    adjM[microID, diseaseID] = 1\n",
    "    adjM[diseaseID, microID] = 1\n",
    "for _, row in microbe_metabolite.iterrows():\n",
    "    microID = row[\"MicrobeIdx\"]\n",
    "    metID = num_microbe + num_disease + row[\"MetaboliteIdx\"]\n",
    "    adjM[microID, metID] = 1\n",
    "    adjM[metID, microID] = 1\n",
    "for _, row in metabolite_disease.iterrows():\n",
    "    metID = num_microbe + num_disease + row[\"MetaboliteIdx\"]\n",
    "    diseaseID = num_microbe + row[\"DiseaseIdx\"]\n",
    "    adjM[metID, diseaseID] = 1\n",
    "    adjM[diseaseID, metID] = 1"
   ],
   "id": "1200849287283faf",
   "outputs": [],
   "execution_count": 12
  },
  {
   "metadata": {
    "ExecuteTime": {
     "end_time": "2024-12-13T09:28:32.970591Z",
     "start_time": "2024-12-08T11:13:58.672004Z"
    }
   },
   "cell_type": "code",
   "source": [
    "# Example sparse adjacency matrix\n",
    "adjM_sparse = csr_matrix(adjM)\n",
    "\n",
    "# Calculate sparsity\n",
    "total_elements = adjM_sparse.shape[0] * adjM_sparse.shape[1]\n",
    "non_zero_elements = adjM_sparse.nnz\n",
    "sparsity = 1 - (non_zero_elements / total_elements)\n",
    "sparsity_percentage = sparsity * 100\n",
    "\n",
    "print(f\"Sparsity of the adjacency matrix: {sparsity_percentage:.2f}%\")\n",
    "print(f\"Sparsity of the sparse adjacency matrix: {sparsity:.2f}\")"
   ],
   "id": "65a0453642fb03b0",
   "outputs": [
    {
     "name": "stdout",
     "output_type": "stream",
     "text": [
      "Sparsity of the adjacency matrix: 99.79%\n",
      "Sparsity of the sparse adjacency matrix: 1.00\n"
     ]
    }
   ],
   "execution_count": 13
  },
  {
   "metadata": {},
   "cell_type": "markdown",
   "source": " # Create edge metapath index array",
   "id": "590efb1661251aaf"
  },
  {
   "metadata": {
    "ExecuteTime": {
     "end_time": "2024-12-13T23:41:24.447601Z",
     "start_time": "2024-12-13T23:41:23.807778Z"
    }
   },
   "cell_type": "code",
   "source": [
    "# map each microbe to a list of diseases within adjM and remove empty arrays\n",
    "# adjM[microbe, diseases]\n",
    "microbe_disease_list = {i: adjM[i, num_microbe:num_microbe+num_disease].nonzero()[0].astype(np.int16) for i in range(num_microbe)}\n",
    "microbe_disease_list = {i: v for i, v in microbe_disease_list.items() if v.size > 0}\n",
    "\n",
    "# map each disease to a list of microbes within adjM and remove empty arrays\n",
    "# adjM[disease, microbes]\n",
    "disease_microbe_list = {i: adjM[num_microbe+i, :num_microbe].nonzero()[0].astype(np.int16) for i in range(num_disease)}\n",
    "disease_microbe_list = {i: v for i, v in disease_microbe_list.items() if v.size > 0}\n",
    "\n",
    "# map each metabolite to a list of diseases within adjM and remove empty arrays\n",
    "# adjM[metabolite, diseases]\n",
    "metabolite_disease_list = {i: adjM[num_microbe+num_disease+i, num_microbe:num_microbe+num_disease].nonzero()[0].astype(np.int16) for i in range(num_metabolite)}\n",
    "metabolite_disease_list = {i: v for i, v in metabolite_disease_list.items() if v.size > 0}\n",
    "\n",
    "# map each disease to a list of metabolites within adjM and remove empty arrays\n",
    "# adjM[disease, metabolites]\n",
    "disease_metabolite_list = {i: adjM[num_microbe+i, num_microbe+num_disease:].nonzero()[0].astype(np.int16) for i in range(num_disease)}\n",
    "disease_metabolite_list = {i: v for i, v in disease_metabolite_list.items() if v.size > 0}\n",
    "\n",
    "# map each microbe to a list of metabolites within adjM and remove empty arrays\n",
    "# adjM[microbe, metabolites]\n",
    "microbe_metabolite_list = {i: adjM[i, num_microbe+num_disease:].nonzero()[0].astype(np.int16) for i in range(num_microbe)}\n",
    "microbe_metabolite_list = {i: v for i, v in microbe_metabolite_list.items() if v.size > 0}\n",
    "\n",
    "# map each metabolite to a list of microbes within adjM and remove empty arrays\n",
    "# adjM[metabolite, microbes]\n",
    "metabolite_microbe_list = {i: adjM[num_microbe+num_disease+i, :num_microbe].nonzero()[0].astype(np.int16) for i in range(num_metabolite)}\n",
    "metabolite_microbe_list = {i: v for i, v in metabolite_microbe_list.items() if v.size > 0}"
   ],
   "id": "6a50b8cc1395a219",
   "outputs": [],
   "execution_count": 14
  },
  {
   "metadata": {},
   "cell_type": "code",
   "outputs": [],
   "execution_count": null,
   "source": [
    "# 0-1-0 (microbe-disease-microbe)\n",
    "# remove the same metapath types with reverse order. e.g., (1, 0, 2) and (2, 0, 1) are the same\n",
    "# remove path includes the same microbe1 and microbe2 (same 1st and last element). e.g., (1, 4, 1) and (0, 4, 0) are removed\n",
    "microbe_disease_microbe = generate_triplet_array(disease_microbe_list)\n",
    "microbe_disease_microbe[:, 1] += num_microbe\n",
    "microbe_disease_microbe = lexicographical_sort(microbe_disease_microbe, [0, 2, 1])"
   ],
   "id": "6c930bd63761ba35"
  },
  {
   "metadata": {},
   "cell_type": "code",
   "outputs": [],
   "execution_count": null,
   "source": [
    "# save 0-1-0 in batches\n",
    "process_and_save_metapath_idx_in_batches(\n",
    "    metapath_type=(0, 1, 0),\n",
    "    metapath_array=microbe_disease_microbe,\n",
    "    target_idx_list=np.arange(num_microbe),\n",
    "    offset=0,\n",
    "    save_prefix=save_prefix,\n",
    "    group_index=0\n",
    ")"
   ],
   "id": "dacd249adae26325"
  },
  {
   "metadata": {},
   "cell_type": "code",
   "outputs": [],
   "execution_count": null,
   "source": [
    "process_and_save_adjlist_in_batches(\n",
    "    metapath_type=(0, 1, 0),\n",
    "    metapath_array=microbe_disease_microbe,\n",
    "    target_idx_list=np.arange(num_microbe),\n",
    "    offset=0,\n",
    "    save_prefix=save_prefix,\n",
    "    group_index=0,\n",
    ")"
   ],
   "id": "4d7469bdb0a2f0ea"
  },
  {
   "metadata": {},
   "cell_type": "code",
   "outputs": [],
   "execution_count": null,
   "source": [
    "# 2-0-1-0-2 (metabolite-microbe-disease-microbe-metabolite)\n",
    "meta_micro_d_micro_meta = generate_long_relationship_array(\n",
    "    relational_list=microbe_metabolite_list,\n",
    "    intermediate_triplet=microbe_disease_microbe,\n",
    "    num_offset2=(num_microbe + num_disease)\n",
    ")\n",
    "\n",
    "meta_micro_d_micro_meta = lexicographical_sort(meta_micro_d_micro_meta, [0, 2, 1, 3, 4])"
   ],
   "id": "ba498f1a2fee4108"
  },
  {
   "metadata": {},
   "cell_type": "code",
   "outputs": [],
   "execution_count": null,
   "source": [
    "# save 2-0-1-0-2 in batches\n",
    "process_and_save_metapath_idx_in_batches(\n",
    "    metapath_type=(2, 0, 1, 0, 2),\n",
    "    metapath_array=meta_micro_d_micro_meta,\n",
    "    target_idx_list=np.arange(num_metabolite),\n",
    "    offset=num_microbe + num_disease,\n",
    "    save_prefix=save_prefix,\n",
    "    group_index=2\n",
    ")"
   ],
   "id": "39fd2bd5e79c4065"
  },
  {
   "metadata": {},
   "cell_type": "code",
   "outputs": [],
   "execution_count": null,
   "source": [
    "process_and_save_adjlist_in_batches(\n",
    "    metapath_type=(2, 0, 1, 0, 2),\n",
    "    metapath_array=meta_micro_d_micro_meta,\n",
    "    target_idx_list=np.arange(num_metabolite),\n",
    "    offset=num_microbe + num_disease,\n",
    "    save_prefix=save_prefix,\n",
    "    group_index=2,\n",
    ")"
   ],
   "id": "2ca4dc515c4fc62"
  },
  {
   "metadata": {},
   "cell_type": "code",
   "outputs": [],
   "execution_count": null,
   "source": [
    "del microbe_disease_microbe\n",
    "del meta_micro_d_micro_meta"
   ],
   "id": "cdd576c709bcaae7"
  },
  {
   "metadata": {},
   "cell_type": "code",
   "outputs": [],
   "execution_count": null,
   "source": [
    "# 0-2-0 (microbe-metabolite-microbe)\n",
    "microbe_metabolite_microbe = generate_triplet_array(metabolite_microbe_list)\n",
    "microbe_metabolite_microbe[:, 1] += num_microbe + num_disease\n",
    "microbe_metabolite_microbe = lexicographical_sort(microbe_metabolite_microbe, [0, 2, 1])"
   ],
   "id": "fb082df4bf062b03"
  },
  {
   "metadata": {},
   "cell_type": "code",
   "outputs": [],
   "execution_count": null,
   "source": [
    "# save 0-2-0 in batches\n",
    "process_and_save_metapath_idx_in_batches(\n",
    "    metapath_type=(0, 2, 0),\n",
    "    metapath_array=microbe_metabolite_microbe,\n",
    "    target_idx_list=np.arange(num_microbe),\n",
    "    offset=0,\n",
    "    save_prefix=save_prefix,\n",
    "    group_index=0\n",
    ")"
   ],
   "id": "4d59e2669848e6a4"
  },
  {
   "metadata": {},
   "cell_type": "code",
   "outputs": [],
   "execution_count": null,
   "source": [
    "process_and_save_adjlist_in_batches(\n",
    "    metapath_type=(0, 2, 0),\n",
    "    metapath_array=microbe_metabolite_microbe,\n",
    "    target_idx_list=np.arange(num_microbe),\n",
    "    offset=0,\n",
    "    save_prefix=save_prefix,\n",
    "    group_index=0,\n",
    ")"
   ],
   "id": "69e25ffa3f7f2644"
  },
  {
   "metadata": {},
   "cell_type": "code",
   "outputs": [],
   "execution_count": null,
   "source": [
    "# 1-0-2-0-1 (disease-microbe-metabolite-microbe-disease)\n",
    "d_micro_meta_micro_d = generate_long_relationship_array(\n",
    "    relational_list=microbe_disease_list,\n",
    "    intermediate_triplet=microbe_metabolite_microbe,\n",
    "    num_offset2=num_microbe,\n",
    ")\n",
    "\n",
    "d_micro_meta_micro_d = lexicographical_sort(d_micro_meta_micro_d, [0, 2, 1, 3, 4])"
   ],
   "id": "7bac10f66f5cf747"
  },
  {
   "metadata": {},
   "cell_type": "code",
   "outputs": [],
   "execution_count": null,
   "source": [
    "# save 1-0-2-0-1 in batches\n",
    "process_and_save_metapath_idx_in_batches(\n",
    "    metapath_type=(1, 0, 2, 0, 1),\n",
    "    metapath_array=d_micro_meta_micro_d,\n",
    "    target_idx_list=np.arange(num_disease),\n",
    "    offset=num_microbe,\n",
    "    save_prefix=save_prefix,\n",
    "    group_index=1\n",
    ")"
   ],
   "id": "5474384196ce2f7e"
  },
  {
   "metadata": {},
   "cell_type": "code",
   "outputs": [],
   "execution_count": null,
   "source": [
    "process_and_save_adjlist_in_batches(\n",
    "    metapath_type=(1, 0, 2, 0, 1),\n",
    "    metapath_array=d_micro_meta_micro_d,\n",
    "    target_idx_list=np.arange(num_disease),\n",
    "    offset=num_microbe,\n",
    "    save_prefix=save_prefix,\n",
    "    group_index=1,\n",
    ")"
   ],
   "id": "a9b360114a9c4bf5"
  },
  {
   "metadata": {},
   "cell_type": "code",
   "outputs": [],
   "execution_count": null,
   "source": [
    "del microbe_metabolite_microbe\n",
    "del d_micro_meta_micro_d"
   ],
   "id": "fcab4de3379f9bdd"
  },
  {
   "metadata": {},
   "cell_type": "code",
   "outputs": [],
   "execution_count": null,
   "source": [
    "# 1-2-1 (disease-metabolite-disease)\n",
    "disease_metabolite_disease = generate_triplet_array(metabolite_disease_list)\n",
    "disease_metabolite_disease[:, (0, 2)] += num_microbe\n",
    "disease_metabolite_disease[:, 1] += num_microbe + num_disease\n",
    "disease_metabolite_disease = lexicographical_sort(disease_metabolite_disease, [0, 2, 1])"
   ],
   "id": "b6fba8c86469b2a6"
  },
  {
   "metadata": {},
   "cell_type": "code",
   "outputs": [],
   "execution_count": null,
   "source": [
    "# save 1-2-1 in batches\n",
    "process_and_save_metapath_idx_in_batches(\n",
    "    metapath_type=(1, 2, 1),\n",
    "    metapath_array=disease_metabolite_disease,\n",
    "    target_idx_list=np.arange(num_disease),\n",
    "    offset=num_microbe,\n",
    "    save_prefix=save_prefix,\n",
    "    group_index=1\n",
    ")"
   ],
   "id": "6c3b266b67e4687d"
  },
  {
   "metadata": {},
   "cell_type": "code",
   "outputs": [],
   "execution_count": null,
   "source": [
    "process_and_save_adjlist_in_batches(\n",
    "    metapath_type=(1, 2, 1),\n",
    "    metapath_array=disease_metabolite_disease,\n",
    "    target_idx_list=np.arange(num_disease),\n",
    "    offset=num_microbe,\n",
    "    save_prefix=save_prefix,\n",
    "    group_index=1,\n",
    ")"
   ],
   "id": "93cf0dd7a34e3768"
  },
  {
   "metadata": {},
   "cell_type": "code",
   "outputs": [],
   "execution_count": null,
   "source": [
    "# 0-1-2-1-0 (microbe-disease-metabolite-disease-microbe)\n",
    "micro_d_meta_d_micro = generate_long_relationship_array(\n",
    "    relational_list=disease_microbe_list,\n",
    "    intermediate_triplet=disease_metabolite_disease,\n",
    "    num_offset1=num_microbe\n",
    ")\n",
    "\n",
    "micro_d_meta_d_micro = lexicographical_sort(micro_d_meta_d_micro, [0, 2, 1, 3, 4])"
   ],
   "id": "1ebc8920c42b25c9"
  },
  {
   "metadata": {},
   "cell_type": "code",
   "outputs": [],
   "execution_count": null,
   "source": [
    "# save 0-1-2-1-0 in batches\n",
    "process_and_save_metapath_idx_in_batches(\n",
    "    metapath_type=(0, 1, 2, 1, 0),\n",
    "    metapath_array=micro_d_meta_d_micro,\n",
    "    target_idx_list=np.arange(num_microbe),\n",
    "    offset=0,\n",
    "    save_prefix=save_prefix,\n",
    "    group_index=0\n",
    ")"
   ],
   "id": "7129649ac51f3463"
  },
  {
   "metadata": {},
   "cell_type": "code",
   "outputs": [],
   "execution_count": null,
   "source": [
    "process_and_save_adjlist_in_batches(\n",
    "    metapath_type=(0, 1, 2, 1, 0),\n",
    "    metapath_array=micro_d_meta_d_micro,\n",
    "    target_idx_list=np.arange(num_microbe),\n",
    "    offset=0,\n",
    "    save_prefix=save_prefix,\n",
    "    group_index=0,\n",
    ")"
   ],
   "id": "75fb9f115d597985"
  },
  {
   "metadata": {},
   "cell_type": "code",
   "outputs": [],
   "execution_count": null,
   "source": [
    "del disease_metabolite_disease\n",
    "del micro_d_meta_d_micro"
   ],
   "id": "e52d0b6952ed4dcc"
  },
  {
   "metadata": {},
   "cell_type": "code",
   "outputs": [],
   "execution_count": null,
   "source": [
    "# 2-1-2 (metabolite-disease-metabolite)\n",
    "metabolite_disease_metabolite = generate_triplet_array(disease_metabolite_list)\n",
    "metabolite_disease_metabolite[:, (0, 2)] += num_microbe + num_disease  \n",
    "metabolite_disease_metabolite[:, 1] += num_microbe                 \n",
    "metabolite_disease_metabolite = lexicographical_sort(metabolite_disease_metabolite, [0, 2, 1])"
   ],
   "id": "40583fd480f52811"
  },
  {
   "metadata": {},
   "cell_type": "code",
   "outputs": [],
   "execution_count": null,
   "source": [
    "# save 2-1-2 in batches\n",
    "process_and_save_metapath_idx_in_batches(\n",
    "    metapath_type=(2, 1, 2),\n",
    "    metapath_array=metabolite_disease_metabolite,\n",
    "    target_idx_list=np.arange(num_metabolite),\n",
    "    offset=num_microbe+num_disease,\n",
    "    save_prefix=save_prefix,\n",
    "    group_index=2\n",
    ")"
   ],
   "id": "10f5c1654fe2a3bd"
  },
  {
   "metadata": {},
   "cell_type": "code",
   "outputs": [],
   "execution_count": null,
   "source": [
    "process_and_save_adjlist_in_batches(\n",
    "    metapath_type=(2, 1, 2),\n",
    "    metapath_array=metabolite_disease_metabolite,\n",
    "    target_idx_list=np.arange(num_metabolite),\n",
    "    offset=num_microbe + num_disease,\n",
    "    save_prefix=save_prefix,\n",
    "    group_index=2,\n",
    ")"
   ],
   "id": "9a7395470168e9fb"
  },
  {
   "metadata": {},
   "cell_type": "code",
   "outputs": [],
   "execution_count": null,
   "source": [
    "# 0-2-1-2-0 (microbe-metabolite-disease-metabolite-microbe)\n",
    "micro_meta_d_meta_micro = generate_long_relationship_array(\n",
    "    relational_list=metabolite_microbe_list,\n",
    "    intermediate_triplet=metabolite_disease_metabolite,\n",
    "    num_offset1=(num_microbe + num_disease)\n",
    ")\n",
    "\n",
    "micro_meta_d_meta_micro = lexicographical_sort(micro_meta_d_meta_micro, [0, 2, 1, 3, 4])"
   ],
   "id": "d276f2c9ac4df1e7"
  },
  {
   "metadata": {},
   "cell_type": "code",
   "outputs": [],
   "execution_count": null,
   "source": [
    "# save 0-2-1-2-0 in batches\n",
    "process_and_save_metapath_idx_in_batches(\n",
    "    metapath_type=(0, 2, 1, 2, 0),\n",
    "    metapath_array=micro_meta_d_meta_micro,\n",
    "    target_idx_list=np.arange(num_microbe),\n",
    "    offset=0,\n",
    "    save_prefix=save_prefix,\n",
    "    group_index=0\n",
    ")"
   ],
   "id": "fa6d9e2d9eb88ddc"
  },
  {
   "metadata": {},
   "cell_type": "code",
   "outputs": [],
   "execution_count": null,
   "source": [
    "process_and_save_adjlist_in_batches(\n",
    "    metapath_type=(0, 2, 1, 2, 0),\n",
    "    metapath_array=micro_meta_d_meta_micro,\n",
    "    target_idx_list=np.arange(num_microbe),\n",
    "    offset=0,\n",
    "    save_prefix=save_prefix,\n",
    "    group_index=0,\n",
    ")"
   ],
   "id": "6dcd71e960de538c"
  },
  {
   "metadata": {},
   "cell_type": "code",
   "outputs": [],
   "execution_count": null,
   "source": [
    "del metabolite_disease_metabolite\n",
    "del micro_meta_d_meta_micro"
   ],
   "id": "65d71c9308381458"
  },
  {
   "metadata": {},
   "cell_type": "code",
   "outputs": [],
   "execution_count": null,
   "source": [
    "# 1-0-1 (disease-microbe-disease)\n",
    "disease_microbe_disease = generate_triplet_array(microbe_disease_list)\n",
    "disease_microbe_disease[:, (0, 2)] += num_microbe\n",
    "disease_microbe_disease = lexicographical_sort(disease_microbe_disease, [0, 2, 1])"
   ],
   "id": "c4d077d2d4cdc52e"
  },
  {
   "metadata": {},
   "cell_type": "code",
   "outputs": [],
   "execution_count": null,
   "source": [
    "# save 1-0-1 in batches\n",
    "process_and_save_metapath_idx_in_batches(\n",
    "    metapath_type=(1, 0, 1),\n",
    "    metapath_array=disease_microbe_disease,\n",
    "    target_idx_list=np.arange(num_disease),\n",
    "    offset=num_microbe,\n",
    "    save_prefix=save_prefix,\n",
    "    group_index=1\n",
    ")"
   ],
   "id": "337fad7c5ed9792c"
  },
  {
   "metadata": {},
   "cell_type": "code",
   "outputs": [],
   "execution_count": null,
   "source": [
    "process_and_save_adjlist_in_batches(\n",
    "    metapath_type=(1, 0, 1),\n",
    "    metapath_array=disease_microbe_disease,\n",
    "    target_idx_list=np.arange(num_disease),\n",
    "    offset=num_microbe,\n",
    "    save_prefix=save_prefix,\n",
    "    group_index=1,\n",
    ")"
   ],
   "id": "d31b9b958bb70298"
  },
  {
   "metadata": {},
   "cell_type": "code",
   "outputs": [],
   "execution_count": null,
   "source": [
    "# 2-1-0-1-2 (metabolite-disease-microbe-disease-metabolite)\n",
    "meta_d_micro_d_meta = generate_long_relationship_array(\n",
    "    relational_list=disease_metabolite_list,\n",
    "    intermediate_triplet=disease_microbe_disease,\n",
    "    num_offset1=num_microbe,\n",
    "    num_offset2=(num_microbe + num_disease)\n",
    ")\n",
    "\n",
    "meta_d_micro_d_meta = lexicographical_sort(meta_d_micro_d_meta, [0, 2, 1, 3, 4])"
   ],
   "id": "efae56f91ebe8606"
  },
  {
   "metadata": {},
   "cell_type": "code",
   "outputs": [],
   "execution_count": null,
   "source": [
    "# save 2-1-0-1-2 in batches\n",
    "process_and_save_metapath_idx_in_batches(\n",
    "    metapath_type=(2, 1, 0, 1, 2),\n",
    "    metapath_array=meta_d_micro_d_meta,\n",
    "    target_idx_list=np.arange(num_metabolite),\n",
    "    offset=num_microbe + num_disease,\n",
    "    save_prefix=save_prefix,\n",
    "    group_index=2\n",
    ")"
   ],
   "id": "cf16865c2595defe"
  },
  {
   "metadata": {},
   "cell_type": "code",
   "outputs": [],
   "execution_count": null,
   "source": [
    "process_and_save_adjlist_in_batches(\n",
    "    metapath_type=(2, 1, 0, 1, 2),\n",
    "    metapath_array=meta_d_micro_d_meta,\n",
    "    target_idx_list=np.arange(num_metabolite),\n",
    "    offset=num_microbe + num_disease,\n",
    "    save_prefix=save_prefix,\n",
    "    group_index=2,\n",
    ")"
   ],
   "id": "addd2a54b2b5eb5f"
  },
  {
   "metadata": {},
   "cell_type": "code",
   "outputs": [],
   "execution_count": null,
   "source": [
    "del disease_microbe_disease\n",
    "del meta_d_micro_d_meta"
   ],
   "id": "b1af1838daf6f75e"
  },
  {
   "metadata": {},
   "cell_type": "code",
   "outputs": [],
   "execution_count": null,
   "source": [
    "# 2-0-2 (metabolite-microbe-metabolite)\n",
    "metabolite_microbe_metabolite = generate_triplet_array(microbe_metabolite_list)\n",
    "metabolite_microbe_metabolite[:, (0, 2)] += num_microbe + num_disease\n",
    "metabolite_microbe_metabolite = lexicographical_sort(metabolite_microbe_metabolite, [0, 2, 1])"
   ],
   "id": "8cde5ed30b7406fd"
  },
  {
   "metadata": {},
   "cell_type": "code",
   "outputs": [],
   "execution_count": null,
   "source": [
    "# save 2-0-2 in batches\n",
    "process_and_save_metapath_idx_in_batches(\n",
    "    metapath_type=(2, 0, 2),\n",
    "    metapath_array=metabolite_microbe_metabolite,\n",
    "    target_idx_list=np.arange(num_metabolite),\n",
    "    offset=num_microbe + num_disease,\n",
    "    save_prefix=save_prefix,\n",
    "    group_index=2\n",
    ")"
   ],
   "id": "7101081cb877002d"
  },
  {
   "metadata": {},
   "cell_type": "code",
   "outputs": [],
   "execution_count": null,
   "source": [
    "process_and_save_adjlist_in_batches(\n",
    "    metapath_type=(2, 0, 2),\n",
    "    metapath_array=metabolite_microbe_metabolite,\n",
    "    target_idx_list=np.arange(num_metabolite),\n",
    "    offset=num_microbe + num_disease,\n",
    "    save_prefix=save_prefix,\n",
    "    group_index=2,\n",
    ")"
   ],
   "id": "c50d2887a0b845f7"
  },
  {
   "metadata": {},
   "cell_type": "code",
   "outputs": [],
   "execution_count": null,
   "source": [
    "# 1-2-0-2-1 (disease-metabolite-microbe-metabolite-disease)\n",
    "d_meta_micro_meta_d = generate_long_relationship_array(\n",
    "    relational_list=metabolite_disease_list,\n",
    "    intermediate_triplet=metabolite_microbe_metabolite,\n",
    "    num_offset1=(num_microbe + num_disease),\n",
    "    num_offset2=num_microbe\n",
    ")\n",
    "\n",
    "d_meta_micro_meta_d = lexicographical_sort(d_meta_micro_meta_d, [0, 2, 1, 3, 4])"
   ],
   "id": "ea04db825e7c992e"
  },
  {
   "metadata": {},
   "cell_type": "code",
   "outputs": [],
   "execution_count": null,
   "source": [
    "# save 1-2-0-2-1 in batches\n",
    "process_and_save_metapath_idx_in_batches(\n",
    "    metapath_type=(1, 2, 0, 2, 1),\n",
    "    metapath_array=d_meta_micro_meta_d,\n",
    "    target_idx_list=np.arange(num_disease),\n",
    "    offset=num_microbe,\n",
    "    save_prefix=save_prefix,\n",
    "    group_index=1\n",
    ")"
   ],
   "id": "915c903d63ab037f"
  },
  {
   "metadata": {},
   "cell_type": "code",
   "outputs": [],
   "execution_count": null,
   "source": [
    "process_and_save_adjlist_in_batches(\n",
    "    metapath_type=(1, 2, 0, 2, 1),\n",
    "    metapath_array=d_meta_micro_meta_d,\n",
    "    target_idx_list=np.arange(num_disease),\n",
    "    offset=num_microbe,\n",
    "    save_prefix=save_prefix,\n",
    "    group_index=1,\n",
    ")"
   ],
   "id": "edb8214ce5ad0e1f"
  },
  {
   "metadata": {},
   "cell_type": "code",
   "outputs": [],
   "execution_count": null,
   "source": [
    "del metabolite_microbe_metabolite\n",
    "del d_meta_micro_meta_d"
   ],
   "id": "99ef9d23495eb21b"
  },
  {
   "metadata": {},
   "cell_type": "code",
   "outputs": [],
   "execution_count": null,
   "source": [
    "# save scipy sparse adjM \n",
    "save_npz(save_prefix + 'adjM.npz', csr_matrix(adjM))\n",
    "# save node type_mask\n",
    "np.save(save_prefix + 'node_types.npy', type_mask)"
   ],
   "id": "a26de5bc855ee5f5"
  },
  {
   "metadata": {},
   "cell_type": "code",
   "outputs": [],
   "execution_count": null,
   "source": [
    "# output microbe_disease.npy\n",
    "microbe_disease = pd.read_csv('data/raw/microbe_disease_idx.dat', encoding='utf-8', delimiter='\\t', names=['MicrobeID', 'DiseaseID'])\n",
    "microbe_disease = microbe_disease[['MicrobeID', 'DiseaseID']].to_numpy()\n",
    "np.save(save_prefix + 'microbe_disease.npy', microbe_disease)"
   ],
   "id": "d9f17bc59590e133"
  },
  {
   "metadata": {},
   "cell_type": "markdown",
   "source": "## Split data into training, validation and testing sets",
   "id": "341814aaa5c98df0"
  },
  {
   "metadata": {},
   "cell_type": "code",
   "outputs": [],
   "execution_count": null,
   "source": [
    "md_train, md_val, md_test = split_date(microbe_disease, train_ratio=0.7, val_ratio=0.2, test_ratio=0.1)\n",
    "save_split_data2npz(md_train, md_val, md_test, \"data/raw/micro_disease_train_val_test_idx.npz\")"
   ],
   "id": "870f7c11aa9a8099"
  },
  {
   "metadata": {},
   "cell_type": "code",
   "outputs": [],
   "execution_count": null,
   "source": [
    "# training: 70%, validation: 20%, testing: 10%\n",
    "train_val_test_idx = np.load(\"data/raw/micro_disease_train_val_test_idx.npz\")\n",
    "train_idx = train_val_test_idx['train']\n",
    "val_idx = train_val_test_idx['val']\n",
    "test_idx = train_val_test_idx['test']\n",
    "\n",
    "# reset microbe-disease index \n",
    "microbe_disease = microbe_disease.loc[train_idx].reset_index(drop=True)\n",
    "microbe_disease.head()\n",
    "print(f\"Length of Training data: {len(microbe_disease)}\")"
   ],
   "id": "4ea369739eefd2d2"
  },
  {
   "metadata": {},
   "cell_type": "markdown",
   "source": "## Output positive and negative samples for training, validation and testing sets",
   "id": "1ba9b125bc5c3f9"
  },
  {
   "metadata": {},
   "cell_type": "code",
   "outputs": [],
   "execution_count": null,
   "source": [
    "# output positive and negative samples for training, validation and testing\n",
    "np.random.seed(453289)\n",
    "save_prefix = 'data/preprocessed/microbe_disease_neg_pos_processed/'\n",
    "num_microbe = 8202\n",
    "num_disease = 898\n",
    "microbe_disease = np.load('data/preprocessed/microbe_disease.npy')\n",
    "train_val_test_idx = np.load('data/raw/micro_disease_train_val_test_idx.npz')\n",
    "train_idx = train_val_test_idx['train']\n",
    "val_idx = train_val_test_idx['val']\n",
    "test_idx = train_val_test_idx['test']\n",
    "\n",
    "neg_candidates = []\n",
    "counter = 0\n",
    "for i in range(num_microbe):\n",
    "    for j in range(num_disease):\n",
    "        if counter < len(microbe_disease):\n",
    "            if i == microbe_disease[counter, 0] and j == microbe_disease[counter, 1]:\n",
    "                counter += 1\n",
    "            else:\n",
    "                neg_candidates.append([i, j])\n",
    "        else:\n",
    "            neg_candidates.append([i, j])\n",
    "neg_candidates = np.array(neg_candidates)\n",
    "\n",
    "idx = np.random.choice(len(neg_candidates), len(val_idx) + len(test_idx), replace=False)\n",
    "val_neg_candidates = neg_candidates[sorted(idx[:len(val_idx)])]\n",
    "test_neg_candidates = neg_candidates[sorted(idx[len(val_idx):])]\n",
    "\n",
    "train_microbe_disease = microbe_disease[train_idx]\n",
    "train_neg_candidates = []\n",
    "counter = 0\n",
    "for i in range(num_microbe):\n",
    "    for j in range(num_disease):\n",
    "        if counter < len(train_microbe_disease):\n",
    "            if i == train_microbe_disease[counter, 0] and j == train_microbe_disease[counter, 1]:\n",
    "                counter += 1\n",
    "            else:\n",
    "                train_neg_candidates.append([i, j])\n",
    "        else:\n",
    "            train_neg_candidates.append([i, j])\n",
    "train_neg_candidates = np.array(train_neg_candidates)\n",
    "\n",
    "np.savez(save_prefix + 'train_val_test_neg_microbe_disease.npz',\n",
    "         train_neg_micro_dis=train_neg_candidates,\n",
    "         val_neg_micro_dis=val_neg_candidates,\n",
    "         test_neg_micro_dis=test_neg_candidates)\n",
    "np.savez(save_prefix + 'train_val_test_pos_microbe_disease.npz',\n",
    "         train_pos_micro_dis=microbe_disease[train_idx],\n",
    "         val_pos_micro_dis=microbe_disease[val_idx],\n",
    "         test_pos_micro_dis=microbe_disease[test_idx])"
   ],
   "id": "4805296156c916a5"
  }
 ],
 "metadata": {
  "kernelspec": {
   "display_name": "Python 3",
   "language": "python",
   "name": "python3"
  },
  "language_info": {
   "codemirror_mode": {
    "name": "ipython",
    "version": 2
   },
   "file_extension": ".py",
   "mimetype": "text/x-python",
   "name": "python",
   "nbconvert_exporter": "python",
   "pygments_lexer": "ipython2",
   "version": "2.7.6"
  }
 },
 "nbformat": 4,
 "nbformat_minor": 5
}
