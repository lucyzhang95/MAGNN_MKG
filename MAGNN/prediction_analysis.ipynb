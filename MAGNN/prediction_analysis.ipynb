{
 "cells": [
  {
   "metadata": {},
   "cell_type": "code",
   "outputs": [],
   "execution_count": null,
   "source": [
    "import torch\n",
    "import numpy as np\n",
    "\n",
    "def sigmoid(x):\n",
    "    return 1 / (1 + np.exp(-x))\n",
    "\n",
    "# Function to compute link probabilities\n",
    "def compute_link_probabilities(h, node_pairs):\n",
    "    probabilities = []\n",
    "    for u, a in node_pairs:\n",
    "        # Extract embeddings for nodes u and a\n",
    "        h_u = h[u]  # Embedding of node u\n",
    "        h_a = h[a]  # Embedding of node a\n",
    "\n",
    "        # Compute the dot product and apply sigmoid\n",
    "        dot_product = torch.dot(h_u, h_a)\n",
    "        probability = sigmoid(dot_product.item())\n",
    "        probabilities.append(probability)\n",
    "    return probabilities\n",
    "\n",
    "# Example usage\n",
    "with torch.no_grad():\n",
    "    # Assume `final_h` is your final embeddings tensor (output from net(inputs))\n",
    "    # Shape: [num_nodes, embedding_dim]\n",
    "    novel_pairs = [(0, 1), (2, 3), (4, 5)]  # Replace with your novel pairs\n",
    "    predicted_probs = compute_link_probabilities(final_h, novel_pairs)\n",
    "\n",
    "# Print results\n",
    "for pair, prob in zip(novel_pairs, predicted_probs):\n",
    "    print(f\"Link probability for pair {pair}: {prob}\")"
   ],
   "id": "e1be9d018f61305a"
  }
 ],
 "metadata": {
  "kernelspec": {
   "display_name": "Python 3",
   "language": "python",
   "name": "python3"
  },
  "language_info": {
   "codemirror_mode": {
    "name": "ipython",
    "version": 2
   },
   "file_extension": ".py",
   "mimetype": "text/x-python",
   "name": "python",
   "nbconvert_exporter": "python",
   "pygments_lexer": "ipython2",
   "version": "2.7.6"
  }
 },
 "nbformat": 4,
 "nbformat_minor": 5
}
