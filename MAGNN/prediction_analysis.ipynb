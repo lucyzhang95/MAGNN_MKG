{
 "cells": [
  {
   "cell_type": "code",
   "id": "initial_id",
   "metadata": {
    "collapsed": true,
    "ExecuteTime": {
     "end_time": "2025-01-21T23:53:09.008101Z",
     "start_time": "2025-01-21T23:53:08.751208Z"
    }
   },
   "source": "import pandas as pd",
   "outputs": [],
   "execution_count": 1
  },
  {
   "metadata": {
    "ExecuteTime": {
     "end_time": "2025-01-21T23:53:09.793478Z",
     "start_time": "2025-01-21T23:53:09.786758Z"
    }
   },
   "cell_type": "code",
   "source": "e1_df = pd.read_csv(\"embeddings/MID_drp0.2_seed10_wd0.001.csv\")",
   "id": "c851fa65918c2ee2",
   "outputs": [],
   "execution_count": 2
  },
  {
   "metadata": {
    "ExecuteTime": {
     "end_time": "2025-01-21T23:53:11.098694Z",
     "start_time": "2025-01-21T23:53:11.095330Z"
    }
   },
   "cell_type": "code",
   "source": [
    "e1_d1 =  e1_df[[\"Unnamed: 0\", \"Disease_6\"]]\n",
    "e1_d1 = e1_d1.copy()\n",
    "e1_d1[\"Disease_6\"] = pd.to_numeric(e1_d1[\"Disease_6\"])"
   ],
   "id": "1f16d2c09646334a",
   "outputs": [],
   "execution_count": 3
  },
  {
   "metadata": {
    "ExecuteTime": {
     "end_time": "2025-01-21T23:53:11.831861Z",
     "start_time": "2025-01-21T23:53:11.827750Z"
    }
   },
   "cell_type": "code",
   "source": "sorted_e1_d1 = e1_d1.sort_values(by = [\"Disease_6\"], ascending = False)",
   "id": "8d5b0dad1e2dfc68",
   "outputs": [],
   "execution_count": 4
  },
  {
   "metadata": {
    "ExecuteTime": {
     "end_time": "2025-01-21T23:53:12.873113Z",
     "start_time": "2025-01-21T23:53:12.865732Z"
    }
   },
   "cell_type": "code",
   "source": "sorted_e1_d1",
   "id": "d47d881de1c5e28b",
   "outputs": [
    {
     "data": {
      "text/plain": [
       "      Unnamed: 0  Disease_6\n",
       "113  Microbe_117   0.995513\n",
       "223  Microbe_230   0.995426\n",
       "184  Microbe_191   0.995127\n",
       "57    Microbe_59   0.994136\n",
       "192  Microbe_199   0.993761\n",
       "..           ...        ...\n",
       "140  Microbe_144   0.000000\n",
       "142  Microbe_146   0.000000\n",
       "37    Microbe_38   0.000000\n",
       "144  Microbe_148   0.000000\n",
       "0      Microbe_0   0.000000\n",
       "\n",
       "[262 rows x 2 columns]"
      ],
      "text/html": [
       "<div>\n",
       "<style scoped>\n",
       "    .dataframe tbody tr th:only-of-type {\n",
       "        vertical-align: middle;\n",
       "    }\n",
       "\n",
       "    .dataframe tbody tr th {\n",
       "        vertical-align: top;\n",
       "    }\n",
       "\n",
       "    .dataframe thead th {\n",
       "        text-align: right;\n",
       "    }\n",
       "</style>\n",
       "<table border=\"1\" class=\"dataframe\">\n",
       "  <thead>\n",
       "    <tr style=\"text-align: right;\">\n",
       "      <th></th>\n",
       "      <th>Unnamed: 0</th>\n",
       "      <th>Disease_6</th>\n",
       "    </tr>\n",
       "  </thead>\n",
       "  <tbody>\n",
       "    <tr>\n",
       "      <th>113</th>\n",
       "      <td>Microbe_117</td>\n",
       "      <td>0.995513</td>\n",
       "    </tr>\n",
       "    <tr>\n",
       "      <th>223</th>\n",
       "      <td>Microbe_230</td>\n",
       "      <td>0.995426</td>\n",
       "    </tr>\n",
       "    <tr>\n",
       "      <th>184</th>\n",
       "      <td>Microbe_191</td>\n",
       "      <td>0.995127</td>\n",
       "    </tr>\n",
       "    <tr>\n",
       "      <th>57</th>\n",
       "      <td>Microbe_59</td>\n",
       "      <td>0.994136</td>\n",
       "    </tr>\n",
       "    <tr>\n",
       "      <th>192</th>\n",
       "      <td>Microbe_199</td>\n",
       "      <td>0.993761</td>\n",
       "    </tr>\n",
       "    <tr>\n",
       "      <th>...</th>\n",
       "      <td>...</td>\n",
       "      <td>...</td>\n",
       "    </tr>\n",
       "    <tr>\n",
       "      <th>140</th>\n",
       "      <td>Microbe_144</td>\n",
       "      <td>0.000000</td>\n",
       "    </tr>\n",
       "    <tr>\n",
       "      <th>142</th>\n",
       "      <td>Microbe_146</td>\n",
       "      <td>0.000000</td>\n",
       "    </tr>\n",
       "    <tr>\n",
       "      <th>37</th>\n",
       "      <td>Microbe_38</td>\n",
       "      <td>0.000000</td>\n",
       "    </tr>\n",
       "    <tr>\n",
       "      <th>144</th>\n",
       "      <td>Microbe_148</td>\n",
       "      <td>0.000000</td>\n",
       "    </tr>\n",
       "    <tr>\n",
       "      <th>0</th>\n",
       "      <td>Microbe_0</td>\n",
       "      <td>0.000000</td>\n",
       "    </tr>\n",
       "  </tbody>\n",
       "</table>\n",
       "<p>262 rows × 2 columns</p>\n",
       "</div>"
      ]
     },
     "execution_count": 5,
     "metadata": {},
     "output_type": "execute_result"
    }
   ],
   "execution_count": 5
  },
  {
   "metadata": {
    "ExecuteTime": {
     "end_time": "2025-01-21T23:53:34.509934Z",
     "start_time": "2025-01-21T23:53:34.507617Z"
    }
   },
   "cell_type": "code",
   "source": "filtered_e1_d1 = sorted_e1_d1.loc[sorted_e1_d1[\"Disease_6\"] > 0]",
   "id": "7dab325c20502471",
   "outputs": [],
   "execution_count": 6
  },
  {
   "metadata": {
    "ExecuteTime": {
     "end_time": "2025-01-21T23:54:56.853483Z",
     "start_time": "2025-01-21T23:54:56.851544Z"
    }
   },
   "cell_type": "code",
   "source": "filtered_e1_d1 = filtered_e1_d1.copy()",
   "id": "f595801ed87e7696",
   "outputs": [],
   "execution_count": 14
  },
  {
   "metadata": {
    "ExecuteTime": {
     "end_time": "2025-01-21T23:54:57.954854Z",
     "start_time": "2025-01-21T23:54:57.952743Z"
    }
   },
   "cell_type": "code",
   "source": "filtered_e1_d1[\"Unnamed: 0\"] = filtered_e1_d1[\"Unnamed: 0\"].str.replace(\"Microbe_\", \"\")",
   "id": "6417d15056a6fb32",
   "outputs": [],
   "execution_count": 15
  },
  {
   "metadata": {
    "ExecuteTime": {
     "end_time": "2025-01-21T23:55:01.047329Z",
     "start_time": "2025-01-21T23:55:01.041728Z"
    }
   },
   "cell_type": "code",
   "source": "new_edge = [(row[\"Unnamed: 0\"], \"Disease_6\") for _, row in filtered_e1_d1.iterrows()]",
   "id": "42398134b9d7c4ae",
   "outputs": [],
   "execution_count": 16
  },
  {
   "metadata": {
    "ExecuteTime": {
     "end_time": "2025-01-21T23:55:01.848807Z",
     "start_time": "2025-01-21T23:55:01.846062Z"
    }
   },
   "cell_type": "code",
   "source": "new_edge = [(int(cols[0]), int(cols[1].replace(\"Disease_\", \"\"))) for cols in new_edge]",
   "id": "2cd423f92192d9a",
   "outputs": [],
   "execution_count": 17
  },
  {
   "metadata": {
    "ExecuteTime": {
     "end_time": "2025-01-21T23:55:08.954211Z",
     "start_time": "2025-01-21T23:55:08.951849Z"
    }
   },
   "cell_type": "code",
   "source": "len(new_edge)",
   "id": "34df124551c617d",
   "outputs": [
    {
     "data": {
      "text/plain": [
       "107"
      ]
     },
     "execution_count": 19,
     "metadata": {},
     "output_type": "execute_result"
    }
   ],
   "execution_count": 19
  },
  {
   "metadata": {
    "ExecuteTime": {
     "end_time": "2025-01-21T23:55:11.087622Z",
     "start_time": "2025-01-21T23:55:11.080908Z"
    }
   },
   "cell_type": "code",
   "source": "tru_edge = pd.read_csv(\"data/sampled/common_microbe_disease_idx.dat\", sep=\"\\t\", header=None, names=[\"microbe\", \"disease\"], usecols=[0, 1])",
   "id": "9936a7a84ad3fbd5",
   "outputs": [],
   "execution_count": 20
  },
  {
   "metadata": {
    "ExecuteTime": {
     "end_time": "2025-01-21T23:55:11.657876Z",
     "start_time": "2025-01-21T23:55:11.655229Z"
    }
   },
   "cell_type": "code",
   "source": "tru_edge = tru_edge.loc[tru_edge[\"disease\"] == 6]",
   "id": "52ce948db484f146",
   "outputs": [],
   "execution_count": 21
  },
  {
   "metadata": {
    "ExecuteTime": {
     "end_time": "2025-01-22T00:07:32.758595Z",
     "start_time": "2025-01-22T00:07:32.751590Z"
    }
   },
   "cell_type": "code",
   "source": "len(tru_edge)",
   "id": "624c610abd2a65a4",
   "outputs": [
    {
     "data": {
      "text/plain": [
       "254"
      ]
     },
     "execution_count": 55,
     "metadata": {},
     "output_type": "execute_result"
    }
   ],
   "execution_count": 55
  },
  {
   "metadata": {
    "ExecuteTime": {
     "end_time": "2025-01-21T23:55:14.386414Z",
     "start_time": "2025-01-21T23:55:14.379346Z"
    }
   },
   "cell_type": "code",
   "source": "tru_edge = [(int(row[\"microbe\"]), int(row[\"disease\"])) for _, row in tru_edge.iterrows()]",
   "id": "71a928f37d7017ec",
   "outputs": [],
   "execution_count": 23
  },
  {
   "metadata": {
    "ExecuteTime": {
     "end_time": "2025-01-21T23:55:14.949241Z",
     "start_time": "2025-01-21T23:55:14.941137Z"
    }
   },
   "cell_type": "code",
   "source": "tru_edge",
   "id": "adac0884af22074c",
   "outputs": [
    {
     "data": {
      "text/plain": [
       "[(55, 6),\n",
       " (141, 6),\n",
       " (99, 6),\n",
       " (30, 6),\n",
       " (224, 6),\n",
       " (91, 6),\n",
       " (268, 6),\n",
       " (153, 6),\n",
       " (111, 6),\n",
       " (173, 6),\n",
       " (142, 6),\n",
       " (104, 6),\n",
       " (59, 6),\n",
       " (46, 6),\n",
       " (79, 6),\n",
       " (40, 6),\n",
       " (183, 6),\n",
       " (186, 6),\n",
       " (93, 6),\n",
       " (229, 6),\n",
       " (195, 6),\n",
       " (271, 6),\n",
       " (151, 6),\n",
       " (5, 6),\n",
       " (2, 6),\n",
       " (155, 6),\n",
       " (194, 6),\n",
       " (134, 6),\n",
       " (81, 6),\n",
       " (45, 6),\n",
       " (240, 6),\n",
       " (8, 6),\n",
       " (263, 6),\n",
       " (113, 6),\n",
       " (262, 6),\n",
       " (77, 6),\n",
       " (14, 6),\n",
       " (117, 6),\n",
       " (29, 6),\n",
       " (167, 6),\n",
       " (119, 6),\n",
       " (138, 6),\n",
       " (226, 6),\n",
       " (202, 6),\n",
       " (25, 6),\n",
       " (18, 6),\n",
       " (241, 6),\n",
       " (37, 6),\n",
       " (251, 6),\n",
       " (78, 6),\n",
       " (216, 6),\n",
       " (158, 6),\n",
       " (82, 6),\n",
       " (38, 6),\n",
       " (51, 6),\n",
       " (97, 6),\n",
       " (107, 6),\n",
       " (33, 6),\n",
       " (76, 6),\n",
       " (132, 6),\n",
       " (210, 6),\n",
       " (28, 6),\n",
       " (53, 6),\n",
       " (43, 6),\n",
       " (69, 6),\n",
       " (112, 6),\n",
       " (66, 6),\n",
       " (44, 6),\n",
       " (181, 6),\n",
       " (143, 6),\n",
       " (94, 6),\n",
       " (147, 6),\n",
       " (209, 6),\n",
       " (267, 6),\n",
       " (176, 6),\n",
       " (61, 6),\n",
       " (62, 6),\n",
       " (237, 6),\n",
       " (31, 6),\n",
       " (177, 6),\n",
       " (170, 6),\n",
       " (90, 6),\n",
       " (12, 6),\n",
       " (95, 6),\n",
       " (217, 6),\n",
       " (248, 6),\n",
       " (36, 6),\n",
       " (207, 6),\n",
       " (70, 6),\n",
       " (169, 6),\n",
       " (86, 6),\n",
       " (247, 6),\n",
       " (270, 6),\n",
       " (163, 6),\n",
       " (203, 6),\n",
       " (105, 6),\n",
       " (127, 6),\n",
       " (102, 6),\n",
       " (254, 6),\n",
       " (234, 6),\n",
       " (123, 6),\n",
       " (57, 6),\n",
       " (192, 6),\n",
       " (159, 6),\n",
       " (221, 6),\n",
       " (201, 6),\n",
       " (0, 6),\n",
       " (171, 6),\n",
       " (68, 6),\n",
       " (27, 6),\n",
       " (20, 6),\n",
       " (223, 6),\n",
       " (257, 6),\n",
       " (188, 6),\n",
       " (172, 6),\n",
       " (174, 6),\n",
       " (253, 6),\n",
       " (115, 6),\n",
       " (56, 6),\n",
       " (144, 6),\n",
       " (259, 6),\n",
       " (1, 6),\n",
       " (32, 6),\n",
       " (130, 6),\n",
       " (21, 6),\n",
       " (230, 6),\n",
       " (118, 6),\n",
       " (47, 6),\n",
       " (190, 6),\n",
       " (4, 6),\n",
       " (238, 6),\n",
       " (125, 6),\n",
       " (243, 6),\n",
       " (225, 6),\n",
       " (139, 6),\n",
       " (258, 6),\n",
       " (98, 6),\n",
       " (187, 6),\n",
       " (249, 6),\n",
       " (101, 6),\n",
       " (156, 6),\n",
       " (162, 6),\n",
       " (137, 6),\n",
       " (193, 6),\n",
       " (146, 6),\n",
       " (145, 6),\n",
       " (148, 6),\n",
       " (213, 6),\n",
       " (157, 6),\n",
       " (228, 6),\n",
       " (114, 6),\n",
       " (154, 6),\n",
       " (84, 6),\n",
       " (260, 6),\n",
       " (239, 6),\n",
       " (233, 6),\n",
       " (164, 6),\n",
       " (235, 6),\n",
       " (231, 6),\n",
       " (220, 6),\n",
       " (121, 6),\n",
       " (191, 6),\n",
       " (73, 6),\n",
       " (152, 6),\n",
       " (227, 6),\n",
       " (116, 6),\n",
       " (211, 6),\n",
       " (140, 6),\n",
       " (109, 6),\n",
       " (205, 6),\n",
       " (135, 6),\n",
       " (49, 6),\n",
       " (208, 6),\n",
       " (108, 6),\n",
       " (71, 6),\n",
       " (120, 6),\n",
       " (179, 6),\n",
       " (74, 6),\n",
       " (92, 6),\n",
       " (165, 6),\n",
       " (250, 6),\n",
       " (15, 6),\n",
       " (265, 6),\n",
       " (149, 6),\n",
       " (214, 6),\n",
       " (175, 6),\n",
       " (264, 6),\n",
       " (266, 6),\n",
       " (269, 6),\n",
       " (244, 6),\n",
       " (48, 6),\n",
       " (26, 6),\n",
       " (252, 6),\n",
       " (136, 6),\n",
       " (87, 6),\n",
       " (54, 6),\n",
       " (16, 6),\n",
       " (199, 6),\n",
       " (24, 6),\n",
       " (72, 6),\n",
       " (204, 6),\n",
       " (50, 6),\n",
       " (198, 6),\n",
       " (122, 6),\n",
       " (218, 6),\n",
       " (255, 6),\n",
       " (182, 6),\n",
       " (17, 6),\n",
       " (133, 6),\n",
       " (89, 6),\n",
       " (41, 6),\n",
       " (150, 6),\n",
       " (103, 6),\n",
       " (129, 6),\n",
       " (160, 6),\n",
       " (96, 6),\n",
       " (222, 6),\n",
       " (80, 6),\n",
       " (180, 6),\n",
       " (64, 6),\n",
       " (60, 6),\n",
       " (83, 6),\n",
       " (67, 6),\n",
       " (128, 6),\n",
       " (23, 6),\n",
       " (35, 6),\n",
       " (22, 6),\n",
       " (85, 6),\n",
       " (34, 6),\n",
       " (168, 6),\n",
       " (11, 6),\n",
       " (3, 6),\n",
       " (200, 6),\n",
       " (232, 6),\n",
       " (215, 6),\n",
       " (52, 6),\n",
       " (65, 6),\n",
       " (206, 6),\n",
       " (161, 6),\n",
       " (63, 6),\n",
       " (189, 6),\n",
       " (106, 6),\n",
       " (88, 6),\n",
       " (42, 6),\n",
       " (110, 6),\n",
       " (184, 6),\n",
       " (100, 6),\n",
       " (219, 6),\n",
       " (126, 6),\n",
       " (246, 6),\n",
       " (75, 6),\n",
       " (19, 6),\n",
       " (178, 6),\n",
       " (245, 6)]"
      ]
     },
     "execution_count": 24,
     "metadata": {},
     "output_type": "execute_result"
    }
   ],
   "execution_count": 24
  },
  {
   "metadata": {
    "ExecuteTime": {
     "end_time": "2025-01-21T23:55:45.673812Z",
     "start_time": "2025-01-21T23:55:45.670731Z"
    }
   },
   "cell_type": "code",
   "source": [
    "set1_tru_edge = set(tru_edge)\n",
    "set2_new_edge = set(new_edge)\n",
    "unique_edges_in_new_edge = list(set2_new_edge - set1_tru_edge)\n",
    "unique_edges_in_tru_edge = list(set1_tru_edge - set2_new_edge)"
   ],
   "id": "f50a8e2c10616acf",
   "outputs": [],
   "execution_count": 27
  },
  {
   "metadata": {
    "ExecuteTime": {
     "end_time": "2025-01-21T23:55:52.606127Z",
     "start_time": "2025-01-21T23:55:52.603468Z"
    }
   },
   "cell_type": "code",
   "source": "unique_edges_in_new_edge",
   "id": "b11074559993f034",
   "outputs": [
    {
     "data": {
      "text/plain": [
       "[]"
      ]
     },
     "execution_count": 28,
     "metadata": {},
     "output_type": "execute_result"
    }
   ],
   "execution_count": 28
  },
  {
   "metadata": {
    "ExecuteTime": {
     "end_time": "2025-01-21T23:55:53.330576Z",
     "start_time": "2025-01-21T23:55:53.326303Z"
    }
   },
   "cell_type": "code",
   "source": "unique_edges_in_tru_edge",
   "id": "89e80d47c63c9b88",
   "outputs": [
    {
     "data": {
      "text/plain": [
       "[(61, 6),\n",
       " (37, 6),\n",
       " (105, 6),\n",
       " (127, 6),\n",
       " (171, 6),\n",
       " (182, 6),\n",
       " (76, 6),\n",
       " (78, 6),\n",
       " (54, 6),\n",
       " (144, 6),\n",
       " (67, 6),\n",
       " (210, 6),\n",
       " (188, 6),\n",
       " (27, 6),\n",
       " (3, 6),\n",
       " (148, 6),\n",
       " (214, 6),\n",
       " (146, 6),\n",
       " (40, 6),\n",
       " (29, 6),\n",
       " (84, 6),\n",
       " (161, 6),\n",
       " (227, 6),\n",
       " (55, 6),\n",
       " (110, 6),\n",
       " (231, 6),\n",
       " (108, 6),\n",
       " (163, 6),\n",
       " (57, 6),\n",
       " (33, 6),\n",
       " (112, 6),\n",
       " (123, 6),\n",
       " (167, 6),\n",
       " (68, 6),\n",
       " (233, 6),\n",
       " (189, 6),\n",
       " (178, 6),\n",
       " (72, 6),\n",
       " (193, 6),\n",
       " (125, 6),\n",
       " (246, 6),\n",
       " (30, 6),\n",
       " (85, 6),\n",
       " (151, 6),\n",
       " (140, 6),\n",
       " (206, 6),\n",
       " (87, 6),\n",
       " (63, 6),\n",
       " (153, 6),\n",
       " (36, 6),\n",
       " (12, 6),\n",
       " (47, 6),\n",
       " (23, 6),\n",
       " (168, 6),\n",
       " (25, 6),\n",
       " (104, 6),\n",
       " (115, 6),\n",
       " (170, 6),\n",
       " (225, 6),\n",
       " (53, 6),\n",
       " (264, 6),\n",
       " (240, 6),\n",
       " (66, 6),\n",
       " (121, 6),\n",
       " (198, 6),\n",
       " (187, 6),\n",
       " (253, 6),\n",
       " (15, 6),\n",
       " (2, 6),\n",
       " (26, 6),\n",
       " (136, 6),\n",
       " (202, 6),\n",
       " (134, 6),\n",
       " (4, 6),\n",
       " (149, 6),\n",
       " (160, 6),\n",
       " (204, 6),\n",
       " (270, 6),\n",
       " (259, 6),\n",
       " (43, 6),\n",
       " (8, 6),\n",
       " (32, 6),\n",
       " (98, 6),\n",
       " (164, 6),\n",
       " (56, 6),\n",
       " (100, 6),\n",
       " (111, 6),\n",
       " (177, 6),\n",
       " (243, 6),\n",
       " (5, 6),\n",
       " (60, 6),\n",
       " (126, 6),\n",
       " (181, 6),\n",
       " (113, 6),\n",
       " (179, 6),\n",
       " (234, 6),\n",
       " (62, 6),\n",
       " (38, 6),\n",
       " (139, 6),\n",
       " (73, 6),\n",
       " (183, 6),\n",
       " (49, 6),\n",
       " (238, 6),\n",
       " (249, 6),\n",
       " (75, 6),\n",
       " (130, 6),\n",
       " (262, 6),\n",
       " (35, 6),\n",
       " (24, 6),\n",
       " (0, 6),\n",
       " (79, 6),\n",
       " (90, 6),\n",
       " (156, 6),\n",
       " (222, 6),\n",
       " (266, 6),\n",
       " (158, 6),\n",
       " (224, 6),\n",
       " (213, 6),\n",
       " (52, 6),\n",
       " (96, 6),\n",
       " (173, 6),\n",
       " (228, 6),\n",
       " (239, 6),\n",
       " (1, 6),\n",
       " (241, 6),\n",
       " (69, 6),\n",
       " (190, 6),\n",
       " (82, 6),\n",
       " (71, 6),\n",
       " (137, 6),\n",
       " (203, 6),\n",
       " (192, 6),\n",
       " (269, 6),\n",
       " (31, 6),\n",
       " (18, 6),\n",
       " (97, 6),\n",
       " (86, 6),\n",
       " (152, 6),\n",
       " (205, 6),\n",
       " (88, 6),\n",
       " (165, 6),\n",
       " (209, 6),\n",
       " (48, 6),\n",
       " (114, 6),\n",
       " (103, 6),\n",
       " (169, 6),\n",
       " (235, 6)]"
      ]
     },
     "execution_count": 29,
     "metadata": {},
     "output_type": "execute_result"
    }
   ],
   "execution_count": 29
  },
  {
   "metadata": {},
   "cell_type": "markdown",
   "source": "***",
   "id": "ea83e85d1dae980c"
  },
  {
   "metadata": {
    "ExecuteTime": {
     "end_time": "2025-01-21T23:57:23.969975Z",
     "start_time": "2025-01-21T23:57:23.966378Z"
    }
   },
   "cell_type": "code",
   "source": "import numpy as np",
   "id": "16e30c44f873fb26",
   "outputs": [],
   "execution_count": 30
  },
  {
   "metadata": {
    "ExecuteTime": {
     "end_time": "2025-01-22T00:06:34.257688Z",
     "start_time": "2025-01-22T00:06:34.250394Z"
    }
   },
   "cell_type": "code",
   "source": "mid_pos_train_val_test = np.load(\"data/sampled/preprocessed/train_val_test_pos_microbe_disease.npz\")",
   "id": "36c1d68912df4879",
   "outputs": [],
   "execution_count": 45
  },
  {
   "metadata": {
    "ExecuteTime": {
     "end_time": "2025-01-22T00:06:34.761983Z",
     "start_time": "2025-01-22T00:06:34.756988Z"
    }
   },
   "cell_type": "code",
   "source": [
    "mid_pos_test = pd.DataFrame(mid_pos_train_val_test[\"test_pos_micro_dis\"], columns=[\"microbe\", \"disease\"])\n",
    "mid_pos_test = mid_pos_test.loc[mid_pos_test[\"disease\"] == 6]"
   ],
   "id": "10d6f4da3b95b586",
   "outputs": [],
   "execution_count": 46
  },
  {
   "metadata": {
    "ExecuteTime": {
     "end_time": "2025-01-22T00:06:35.450101Z",
     "start_time": "2025-01-22T00:06:35.445984Z"
    }
   },
   "cell_type": "code",
   "source": "test_edges = [(int(row[\"microbe\"]), int(row[\"disease\"])) for _, row in mid_pos_test.iterrows()]",
   "id": "ada73d02d1e069a0",
   "outputs": [],
   "execution_count": 47
  },
  {
   "metadata": {
    "ExecuteTime": {
     "end_time": "2025-01-22T00:06:36.108111Z",
     "start_time": "2025-01-22T00:06:36.104245Z"
    }
   },
   "cell_type": "code",
   "source": "test_edges",
   "id": "2876aa43f5112dfc",
   "outputs": [
    {
     "data": {
      "text/plain": [
       "[(83, 6),\n",
       " (107, 6),\n",
       " (118, 6),\n",
       " (267, 6),\n",
       " (65, 6),\n",
       " (150, 6),\n",
       " (195, 6),\n",
       " (141, 6),\n",
       " (77, 6),\n",
       " (50, 6),\n",
       " (220, 6),\n",
       " (44, 6),\n",
       " (132, 6),\n",
       " (59, 6),\n",
       " (172, 6),\n",
       " (80, 6),\n",
       " (45, 6),\n",
       " (89, 6),\n",
       " (237, 6),\n",
       " (263, 6),\n",
       " (251, 6),\n",
       " (208, 6)]"
      ]
     },
     "execution_count": 48,
     "metadata": {},
     "output_type": "execute_result"
    }
   ],
   "execution_count": 48
  },
  {
   "metadata": {
    "ExecuteTime": {
     "end_time": "2025-01-22T00:06:37.438651Z",
     "start_time": "2025-01-22T00:06:37.422847Z"
    }
   },
   "cell_type": "code",
   "source": "len(test_edges)",
   "id": "16143269177d90c1",
   "outputs": [
    {
     "data": {
      "text/plain": [
       "22"
      ]
     },
     "execution_count": 49,
     "metadata": {},
     "output_type": "execute_result"
    }
   ],
   "execution_count": 49
  },
  {
   "metadata": {
    "ExecuteTime": {
     "end_time": "2025-01-22T00:06:38.336394Z",
     "start_time": "2025-01-22T00:06:38.332773Z"
    }
   },
   "cell_type": "code",
   "source": [
    "set1_test_edges = set(test_edges)\n",
    "set2_new_edge = set(new_edge)"
   ],
   "id": "dfba54e1857a1e6b",
   "outputs": [],
   "execution_count": 50
  },
  {
   "metadata": {
    "ExecuteTime": {
     "end_time": "2025-01-22T00:06:39.622490Z",
     "start_time": "2025-01-22T00:06:39.618295Z"
    }
   },
   "cell_type": "code",
   "source": "set2_new_edge",
   "id": "fd821625a48f97a",
   "outputs": [
    {
     "data": {
      "text/plain": [
       "{(11, 6),\n",
       " (14, 6),\n",
       " (16, 6),\n",
       " (17, 6),\n",
       " (19, 6),\n",
       " (20, 6),\n",
       " (21, 6),\n",
       " (22, 6),\n",
       " (28, 6),\n",
       " (34, 6),\n",
       " (41, 6),\n",
       " (42, 6),\n",
       " (44, 6),\n",
       " (45, 6),\n",
       " (46, 6),\n",
       " (50, 6),\n",
       " (51, 6),\n",
       " (59, 6),\n",
       " (64, 6),\n",
       " (65, 6),\n",
       " (70, 6),\n",
       " (74, 6),\n",
       " (77, 6),\n",
       " (80, 6),\n",
       " (81, 6),\n",
       " (83, 6),\n",
       " (89, 6),\n",
       " (91, 6),\n",
       " (92, 6),\n",
       " (93, 6),\n",
       " (94, 6),\n",
       " (95, 6),\n",
       " (99, 6),\n",
       " (101, 6),\n",
       " (102, 6),\n",
       " (106, 6),\n",
       " (107, 6),\n",
       " (109, 6),\n",
       " (116, 6),\n",
       " (117, 6),\n",
       " (118, 6),\n",
       " (119, 6),\n",
       " (120, 6),\n",
       " (122, 6),\n",
       " (128, 6),\n",
       " (129, 6),\n",
       " (132, 6),\n",
       " (133, 6),\n",
       " (135, 6),\n",
       " (138, 6),\n",
       " (141, 6),\n",
       " (142, 6),\n",
       " (143, 6),\n",
       " (145, 6),\n",
       " (147, 6),\n",
       " (150, 6),\n",
       " (154, 6),\n",
       " (155, 6),\n",
       " (157, 6),\n",
       " (159, 6),\n",
       " (162, 6),\n",
       " (172, 6),\n",
       " (174, 6),\n",
       " (175, 6),\n",
       " (176, 6),\n",
       " (180, 6),\n",
       " (184, 6),\n",
       " (186, 6),\n",
       " (191, 6),\n",
       " (194, 6),\n",
       " (195, 6),\n",
       " (199, 6),\n",
       " (200, 6),\n",
       " (201, 6),\n",
       " (207, 6),\n",
       " (208, 6),\n",
       " (211, 6),\n",
       " (215, 6),\n",
       " (216, 6),\n",
       " (217, 6),\n",
       " (218, 6),\n",
       " (219, 6),\n",
       " (220, 6),\n",
       " (221, 6),\n",
       " (223, 6),\n",
       " (226, 6),\n",
       " (229, 6),\n",
       " (230, 6),\n",
       " (232, 6),\n",
       " (237, 6),\n",
       " (244, 6),\n",
       " (245, 6),\n",
       " (247, 6),\n",
       " (248, 6),\n",
       " (250, 6),\n",
       " (251, 6),\n",
       " (252, 6),\n",
       " (254, 6),\n",
       " (255, 6),\n",
       " (257, 6),\n",
       " (258, 6),\n",
       " (260, 6),\n",
       " (263, 6),\n",
       " (265, 6),\n",
       " (267, 6),\n",
       " (268, 6),\n",
       " (271, 6)}"
      ]
     },
     "execution_count": 51,
     "metadata": {},
     "output_type": "execute_result"
    }
   ],
   "execution_count": 51
  },
  {
   "metadata": {
    "ExecuteTime": {
     "end_time": "2025-01-22T00:06:42.426480Z",
     "start_time": "2025-01-22T00:06:42.422716Z"
    }
   },
   "cell_type": "code",
   "source": "unique_edges = list(set2_new_edge - set1_test_edges)",
   "id": "be55f03e0fcb1cd4",
   "outputs": [],
   "execution_count": 52
  },
  {
   "metadata": {
    "ExecuteTime": {
     "end_time": "2025-01-22T00:06:43.289374Z",
     "start_time": "2025-01-22T00:06:43.286741Z"
    }
   },
   "cell_type": "code",
   "source": "len(unique_edges)",
   "id": "3ae12022e35907c4",
   "outputs": [
    {
     "data": {
      "text/plain": [
       "85"
      ]
     },
     "execution_count": 53,
     "metadata": {},
     "output_type": "execute_result"
    }
   ],
   "execution_count": 53
  },
  {
   "metadata": {
    "ExecuteTime": {
     "end_time": "2025-01-22T00:07:04.999263Z",
     "start_time": "2025-01-22T00:07:04.992870Z"
    }
   },
   "cell_type": "code",
   "source": "unique_edges",
   "id": "2a5773ca1e3ffba3",
   "outputs": [
    {
     "data": {
      "text/plain": [
       "[(255, 6),\n",
       " (116, 6),\n",
       " (138, 6),\n",
       " (94, 6),\n",
       " (248, 6),\n",
       " (226, 6),\n",
       " (215, 6),\n",
       " (186, 6),\n",
       " (219, 6),\n",
       " (252, 6),\n",
       " (184, 6),\n",
       " (217, 6),\n",
       " (250, 6),\n",
       " (34, 6),\n",
       " (133, 6),\n",
       " (21, 6),\n",
       " (199, 6),\n",
       " (155, 6),\n",
       " (265, 6),\n",
       " (254, 6),\n",
       " (221, 6),\n",
       " (232, 6),\n",
       " (93, 6),\n",
       " (201, 6),\n",
       " (16, 6),\n",
       " (95, 6),\n",
       " (106, 6),\n",
       " (216, 6),\n",
       " (117, 6),\n",
       " (271, 6),\n",
       " (128, 6),\n",
       " (194, 6),\n",
       " (260, 6),\n",
       " (22, 6),\n",
       " (143, 6),\n",
       " (229, 6),\n",
       " (46, 6),\n",
       " (11, 6),\n",
       " (101, 6),\n",
       " (145, 6),\n",
       " (268, 6),\n",
       " (244, 6),\n",
       " (200, 6),\n",
       " (211, 6),\n",
       " (70, 6),\n",
       " (92, 6),\n",
       " (191, 6),\n",
       " (180, 6),\n",
       " (19, 6),\n",
       " (41, 6),\n",
       " (74, 6),\n",
       " (17, 6),\n",
       " (129, 6),\n",
       " (162, 6),\n",
       " (28, 6),\n",
       " (122, 6),\n",
       " (109, 6),\n",
       " (142, 6),\n",
       " (120, 6),\n",
       " (175, 6),\n",
       " (230, 6),\n",
       " (14, 6),\n",
       " (102, 6),\n",
       " (91, 6),\n",
       " (157, 6),\n",
       " (135, 6),\n",
       " (223, 6),\n",
       " (245, 6),\n",
       " (51, 6),\n",
       " (159, 6),\n",
       " (258, 6),\n",
       " (247, 6),\n",
       " (20, 6),\n",
       " (64, 6),\n",
       " (119, 6),\n",
       " (174, 6),\n",
       " (207, 6),\n",
       " (218, 6),\n",
       " (42, 6),\n",
       " (99, 6),\n",
       " (176, 6),\n",
       " (154, 6),\n",
       " (81, 6),\n",
       " (147, 6),\n",
       " (257, 6)]"
      ]
     },
     "execution_count": 54,
     "metadata": {},
     "output_type": "execute_result"
    }
   ],
   "execution_count": 54
  },
  {
   "metadata": {},
   "cell_type": "code",
   "outputs": [],
   "execution_count": null,
   "source": "",
   "id": "fa50e509b4e088a7"
  }
 ],
 "metadata": {
  "kernelspec": {
   "display_name": "Python 3",
   "language": "python",
   "name": "python3"
  },
  "language_info": {
   "codemirror_mode": {
    "name": "ipython",
    "version": 2
   },
   "file_extension": ".py",
   "mimetype": "text/x-python",
   "name": "python",
   "nbconvert_exporter": "python",
   "pygments_lexer": "ipython2",
   "version": "2.7.6"
  }
 },
 "nbformat": 4,
 "nbformat_minor": 5
}
