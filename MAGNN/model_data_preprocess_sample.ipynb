{
 "cells": [
  {
   "cell_type": "code",
   "id": "initial_id",
   "metadata": {
    "collapsed": true,
    "ExecuteTime": {
     "end_time": "2024-12-29T03:12:59.860467Z",
     "start_time": "2024-12-29T03:12:59.855596Z"
    }
   },
   "source": [
    "import os\n",
    "\n",
    "import pandas as pd\n",
    "import numpy as np\n",
    "import scipy\n",
    "import pathlib\n",
    "import pickle\n",
    "\n",
    "from MAGNN_utils.preprocess import (\n",
    "    load_and_concat_files,\n",
    "    sample_edges,\n",
    "    assign_array_index,\n",
    "    export_index2dat,\n",
    "    map_indices_to_dataframe,\n",
    "    split_date,\n",
    "    save_split_data2npz,\n",
    "    generate_triplet_array,\n",
    "    generate_long_relationship_array,\n",
    "    lexicographical_sort,\n",
    ")"
   ],
   "outputs": [],
   "execution_count": 25
  },
  {
   "metadata": {
    "ExecuteTime": {
     "end_time": "2024-12-29T03:13:01.092755Z",
     "start_time": "2024-12-29T03:13:01.088850Z"
    }
   },
   "cell_type": "code",
   "source": [
    "# list all file paths\n",
    "file_path = os.path.join(os.getcwd(), \"../data\", \"MAGNN_data\")\n",
    "# microbe-disease files\n",
    "disbiome_microd_path = os.path.join(file_path, \"disbiome_taxid_mondo.dat\")\n",
    "gmmad2_microd_path = os.path.join(file_path, \"gmmad2_taxid_mondo.dat\")\n",
    "# microbe-metabolite files\n",
    "gmmad2_micrometa_path = os.path.join(file_path, \"gmmad2_taxid_met.dat\")\n",
    "hmdb_micrometa_path = os.path.join(file_path, \"hmdb_taxid_met.dat\")\n",
    "# metabolite-disease file\n",
    "hmdb_metad_path = os.path.join(file_path, \"hmdb_met_disease.dat\")"
   ],
   "id": "944e506137bc5797",
   "outputs": [],
   "execution_count": 26
  },
  {
   "metadata": {
    "ExecuteTime": {
     "end_time": "2024-12-29T06:43:25.172521Z",
     "start_time": "2024-12-29T06:43:24.818312Z"
    }
   },
   "cell_type": "code",
   "source": [
    "# load each dataset and sample the datasets\n",
    "microd_df = load_and_concat_files([disbiome_microd_path, gmmad2_microd_path], column_names=[\"Microbe\", \"Disease\"])\n",
    "microd_frac = sample_edges(dataset=microd_df, fraction=0.5)\n",
    "micrometa_df = load_and_concat_files([gmmad2_micrometa_path, hmdb_micrometa_path], column_names=[\"Microbe\", \"Metabolite\"])\n",
    "micrometa_frac = sample_edges(dataset=micrometa_df, fraction=0.5)\n",
    "metad_df = load_and_concat_files([hmdb_metad_path], column_names=[\"Metabolite\", \"Disease\"])\n",
    "metad_frac = sample_edges(dataset=metad_df, fraction=1.0)"
   ],
   "id": "36cfdd2ddf636669",
   "outputs": [],
   "execution_count": 54
  },
  {
   "metadata": {
    "ExecuteTime": {
     "end_time": "2024-12-29T06:43:27.507529Z",
     "start_time": "2024-12-29T06:43:27.427289Z"
    }
   },
   "cell_type": "code",
   "source": [
    "# assign index to each node\n",
    "microbes1 = microd_frac[\"Microbe\"].unique()\n",
    "microbes2 = micrometa_frac[\"Microbe\"].unique()\n",
    "all_microbes = assign_array_index([microbes1, microbes2], col_name=\"Microbe\", index_name=\"MicrobeIdx\")\n",
    "export_index2dat(all_microbes, \"data/sampled/microbe_index.dat\")\n",
    "d1 = microd_frac[\"Disease\"].unique()\n",
    "d2 = metad_frac[\"Disease\"].unique()\n",
    "all_diseases = assign_array_index([d1, d2], col_name=\"Disease\", index_name=\"DiseaseIdx\")\n",
    "export_index2dat(all_diseases, \"data/sampled/disease_index.dat\")\n",
    "metabolites1 = micrometa_frac[\"Metabolite\"].unique()\n",
    "metabolites2 = metad_frac[\"Metabolite\"].unique()\n",
    "all_metabolites = assign_array_index([metabolites1, metabolites2], col_name=\"Metabolite\", index_name=\"MetaboliteIdx\")\n",
    "export_index2dat(all_metabolites, \"data/sampled/metabolite_index.dat\")"
   ],
   "id": "d3239f5f046fe440",
   "outputs": [],
   "execution_count": 55
  },
  {
   "metadata": {
    "ExecuteTime": {
     "end_time": "2024-12-29T06:43:29.571689Z",
     "start_time": "2024-12-29T06:43:29.365085Z"
    }
   },
   "cell_type": "code",
   "source": [
    "microd = map_indices_to_dataframe(input_df=microd_frac, col1=\"Microbe\", col2=\"Disease\", index_df1=all_microbes, index_col1=\"Microbe\", index_col1_idx=\"MicrobeIdx\", index_df2=all_diseases, index_col2=\"Disease\", index_col2_idx= \"DiseaseIdx\")\n",
    "export_index2dat(microd, \"data/sampled/microbe_disease.dat\")\n",
    "micrometa = map_indices_to_dataframe(input_df=micrometa_frac, col1=\"Microbe\", col2=\"Metabolite\", index_df1=all_microbes, index_col1=\"Microbe\", index_col1_idx=\"MicrobeIdx\", index_df2=all_metabolites, index_col2=\"Metabolite\", index_col2_idx=\"MetaboliteIdx\")\n",
    "export_index2dat(micrometa, \"data/sampled/microbe_metabolite.dat\")\n",
    "metad = map_indices_to_dataframe(input_df=metad_frac, col1=\"Metabolite\", col2=\"Disease\", index_df1=all_metabolites, index_col1=\"Metabolite\", index_col1_idx=\"MetaboliteIdx\", index_df2=all_diseases, index_col2=\"Disease\", index_col2_idx=\"DiseaseIdx\")\n",
    "export_index2dat(metad, \"data/sampled/metabolite_disease.dat\")"
   ],
   "id": "a6fa61e97cf92d1b",
   "outputs": [],
   "execution_count": 56
  },
  {
   "metadata": {
    "ExecuteTime": {
     "end_time": "2024-12-29T06:43:31.063187Z",
     "start_time": "2024-12-29T06:43:31.014992Z"
    }
   },
   "cell_type": "code",
   "source": [
    "microd = pd.read_csv(\"data/sampled/microbe_disease.dat\", sep=\"\\t\", encoding=\"utf-8\", header=None, names=[\"MicrobeIdx\", \"DiseaseIdx\"])\n",
    "micrometa = pd.read_csv(\"data/sampled/microbe_metabolite.dat\", sep=\"\\t\", encoding=\"utf-8\", header=None, names=[\"MicrobeIdx\", \"MetaboliteIdx\"])\n",
    "metad = pd.read_csv(\"data/sampled/metabolite_disease.dat\", sep=\"\\t\", encoding=\"utf-8\", header=None, names=[\"MetaboliteIdx\", \"DiseaseIdx\"])"
   ],
   "id": "30f15fdfbb6a5449",
   "outputs": [],
   "execution_count": 57
  },
  {
   "metadata": {
    "ExecuteTime": {
     "end_time": "2024-12-29T06:43:32.804592Z",
     "start_time": "2024-12-29T06:43:32.802144Z"
    }
   },
   "cell_type": "code",
   "source": [
    "print(f\"Number of Microbe-Disease edges: {len(microd)}\")\n",
    "print(f\"Number of Microbe-Metabolite edges: {len(micrometa)}\")\n",
    "print(f\"Number of Metabolite-Disease edges: {len(metad)}\")"
   ],
   "id": "5aedf387ba671e3f",
   "outputs": [
    {
     "name": "stdout",
     "output_type": "stream",
     "text": [
      "Number of Microbe-Disease edges: 252792\n",
      "Number of Microbe-Metabolite edges: 299595\n",
      "Number of Metabolite-Disease edges: 27546\n"
     ]
    }
   ],
   "execution_count": 58
  },
  {
   "metadata": {
    "ExecuteTime": {
     "end_time": "2024-12-29T06:43:38.432085Z",
     "start_time": "2024-12-29T06:43:38.407928Z"
    }
   },
   "cell_type": "code",
   "source": [
    "md_train, md_val, md_test = split_date(microd, train_ratio=0.7, val_ratio=0.2, test_ratio=0.1)\n",
    "save_split_data2npz(md_train, md_val, md_test, \"data/sampled/preprocessed/micro_disease_train_val_test_idx.npz\")\n",
    "\n",
    "# training: 70%, validation: 20%, testing: 10%\n",
    "train_val_test_idx = np.load(\"data/sampled/preprocessed/micro_disease_train_val_test_idx.npz\")\n",
    "train_idx = train_val_test_idx['train']\n",
    "val_idx = train_val_test_idx['val']\n",
    "test_idx = train_val_test_idx['test']\n",
    "\n",
    "# reset microbe-disease index\n",
    "microbe_disease = microd.loc[train_idx].reset_index(drop=True)\n",
    "microbe_disease.head()\n",
    "print(f\"Length of Training data: {len(microbe_disease)}\")"
   ],
   "id": "65ad7d875040cca1",
   "outputs": [
    {
     "name": "stdout",
     "output_type": "stream",
     "text": [
      "Length of Training data: 176954\n"
     ]
    }
   ],
   "execution_count": 59
  },
  {
   "metadata": {
    "ExecuteTime": {
     "end_time": "2024-12-29T06:43:49.684018Z",
     "start_time": "2024-12-29T06:43:45.064438Z"
    }
   },
   "cell_type": "code",
   "source": [
    "save_prefix = \"data/sampled/preprocessed/\"\n",
    "\n",
    "num_microbe = (micrometa[\"MicrobeIdx\"].max()+1).astype(np.int16)\n",
    "num_disease = (metad[\"DiseaseIdx\"].max()+1).astype(np.int16)\n",
    "num_metabolite = (metad[\"MetaboliteIdx\"].max()+1).astype(np.int16)\n",
    "\n",
    "# build adjacency matrix\n",
    "# 0 for microbe, 1 for disease, 2 for metabolite\n",
    "dim = num_microbe + num_disease + num_metabolite\n",
    "\n",
    "type_mask = np.zeros(dim, dtype=np.int16)\n",
    "type_mask[num_microbe:num_microbe+num_disease] = 1\n",
    "type_mask[num_microbe+num_disease:]= 2\n",
    "\n",
    "adjM = np.zeros((dim, dim), dtype=np.int16)\n",
    "for _, row in microd.iterrows():\n",
    "    microID = row[\"MicrobeIdx\"]\n",
    "    diseaseID = num_microbe + row[\"DiseaseIdx\"]\n",
    "    adjM[microID, diseaseID] = 1\n",
    "    adjM[diseaseID, microID] = 1\n",
    "for _, row in micrometa.iterrows():\n",
    "    microID = row[\"MicrobeIdx\"]\n",
    "    metID = num_microbe + num_disease + row[\"MetaboliteIdx\"]\n",
    "    adjM[microID, metID] = 1\n",
    "    adjM[metID, microID] = 1\n",
    "for _, row in metad.iterrows():\n",
    "    metID = num_microbe + num_disease + row[\"MetaboliteIdx\"]\n",
    "    diseaseID = num_microbe + row[\"DiseaseIdx\"]\n",
    "    adjM[metID, diseaseID] = 1\n",
    "    adjM[diseaseID, metID] = 1"
   ],
   "id": "b66961f36b46e0a0",
   "outputs": [],
   "execution_count": 60
  },
  {
   "metadata": {
    "ExecuteTime": {
     "end_time": "2024-12-29T06:43:52.548485Z",
     "start_time": "2024-12-29T06:43:52.276022Z"
    }
   },
   "cell_type": "code",
   "source": [
    "# map each microbe to a list of diseases within adjM and remove empty arrays\n",
    "# adjM[microbe, diseases]\n",
    "microbe_disease_list = {i: adjM[i, num_microbe:num_microbe+num_disease].nonzero()[0].astype(np.int16) for i in range(num_microbe)}\n",
    "microbe_disease_list = {i: v for i, v in microbe_disease_list.items() if v.size > 0}\n",
    "\n",
    "# map each disease to a list of microbes within adjM and remove empty arrays\n",
    "# adjM[disease, microbes]\n",
    "disease_microbe_list = {i: adjM[num_microbe+i, :num_microbe].nonzero()[0].astype(np.int16) for i in range(num_disease)}\n",
    "disease_microbe_list = {i: v for i, v in disease_microbe_list.items() if v.size > 0}\n",
    "\n",
    "# map each metabolite to a list of diseases within adjM and remove empty arrays\n",
    "# adjM[metabolite, diseases]\n",
    "metabolite_disease_list = {i: adjM[num_microbe+num_disease+i, num_microbe:num_microbe+num_disease].nonzero()[0].astype(np.int16) for i in range(num_metabolite)}\n",
    "metabolite_disease_list = {i: v for i, v in metabolite_disease_list.items() if v.size > 0}\n",
    "\n",
    "# map each disease to a list of metabolites within adjM and remove empty arrays\n",
    "# adjM[disease, metabolites]\n",
    "disease_metabolite_list = {i: adjM[num_microbe+i, num_microbe+num_disease:].nonzero()[0].astype(np.int16) for i in range(num_disease)}\n",
    "disease_metabolite_list = {i: v for i, v in disease_metabolite_list.items() if v.size > 0}\n",
    "\n",
    "# map each microbe to a list of metabolites within adjM and remove empty arrays\n",
    "# adjM[microbe, metabolites]\n",
    "microbe_metabolite_list = {i: adjM[i, num_microbe+num_disease:].nonzero()[0].astype(np.int16) for i in range(num_microbe)}\n",
    "microbe_metabolite_list = {i: v for i, v in microbe_metabolite_list.items() if v.size > 0}\n",
    "\n",
    "# map each metabolite to a list of microbes within adjM and remove empty arrays\n",
    "# adjM[metabolite, microbes]\n",
    "metabolite_microbe_list = {i: adjM[num_microbe+num_disease+i, :num_microbe].nonzero()[0].astype(np.int16) for i in range(num_metabolite)}\n",
    "metabolite_microbe_list = {i: v for i, v in metabolite_microbe_list.items() if v.size > 0}"
   ],
   "id": "d04e311146e21c1e",
   "outputs": [],
   "execution_count": 61
  },
  {
   "metadata": {
    "ExecuteTime": {
     "end_time": "2024-12-29T06:48:18.782662Z",
     "start_time": "2024-12-29T06:43:55.556421Z"
    }
   },
   "cell_type": "code",
   "source": [
    "# 0-1-0 (microbe-disease-microbe)\n",
    "# remove the same metapath types with reverse order. e.g., (1, 0, 2) and (2, 0, 1) are the same\n",
    "# remove path includes the same microbe1 and microbe2 (same 1st and last element). e.g., (1, 4, 1) and (0, 4, 0) are removed\n",
    "microbe_disease_microbe = generate_triplet_array(disease_microbe_list, dtype=np.int16)\n",
    "microbe_disease_microbe[:, 1] += num_microbe\n",
    "microbe_disease_microbe = lexicographical_sort(microbe_disease_microbe, [0, 2, 1])"
   ],
   "id": "5e8219ec86cc7e36",
   "outputs": [],
   "execution_count": 62
  },
  {
   "metadata": {
    "ExecuteTime": {
     "end_time": "2024-12-29T03:17:02.838064Z",
     "start_time": "2024-12-29T03:16:58.829179Z"
    }
   },
   "cell_type": "code",
   "source": [
    "# 0-2-0 (microbe-metabolite-microbe)\n",
    "microbe_metabolite_microbe = generate_triplet_array(metabolite_microbe_list, dtype=np.int16)\n",
    "microbe_metabolite_microbe[:, 1] += num_microbe + num_disease\n",
    "microbe_metabolite_microbe = lexicographical_sort(microbe_metabolite_microbe, [0, 2, 1])"
   ],
   "id": "8f2f6006e62d0489",
   "outputs": [],
   "execution_count": 38
  },
  {
   "metadata": {
    "ExecuteTime": {
     "end_time": "2024-12-29T03:17:03.313439Z",
     "start_time": "2024-12-29T03:17:02.854354Z"
    }
   },
   "cell_type": "code",
   "source": [
    "# 1-0-1 (disease-microbe-disease)\n",
    "disease_microbe_disease = generate_triplet_array(microbe_disease_list, dtype=np.int16)\n",
    "disease_microbe_disease[:, (0, 2)] += num_microbe\n",
    "disease_microbe_disease = lexicographical_sort(disease_microbe_disease, [0, 2, 1])"
   ],
   "id": "fce5148143e19833",
   "outputs": [],
   "execution_count": 39
  },
  {
   "metadata": {
    "ExecuteTime": {
     "end_time": "2024-12-29T03:17:03.352816Z",
     "start_time": "2024-12-29T03:17:03.327857Z"
    }
   },
   "cell_type": "code",
   "source": [
    "# 1-2-1 (disease-metabolite-disease)\n",
    "disease_metabolite_disease = generate_triplet_array(metabolite_disease_list, dtype=np.int16)\n",
    "disease_metabolite_disease[:, (0, 2)] += num_microbe\n",
    "disease_metabolite_disease[:, 1] += num_microbe + num_disease\n",
    "disease_metabolite_disease = lexicographical_sort(disease_metabolite_disease, [0, 2, 1])"
   ],
   "id": "dadbd41f42a61982",
   "outputs": [],
   "execution_count": 40
  },
  {
   "metadata": {
    "ExecuteTime": {
     "end_time": "2024-12-29T03:17:08.079285Z",
     "start_time": "2024-12-29T03:17:03.367988Z"
    }
   },
   "cell_type": "code",
   "source": [
    "# 2-0-2 (metabolite-microbe-metabolite)\n",
    "metabolite_microbe_metabolite = generate_triplet_array(microbe_metabolite_list, dtype=np.int16)\n",
    "metabolite_microbe_metabolite[:, (0, 2)] += num_microbe + num_disease\n",
    "metabolite_microbe_metabolite = lexicographical_sort(metabolite_microbe_metabolite, [0, 2, 1])"
   ],
   "id": "220b7b409dda160c",
   "outputs": [],
   "execution_count": 41
  },
  {
   "metadata": {
    "ExecuteTime": {
     "end_time": "2024-12-29T03:18:41.604776Z",
     "start_time": "2024-12-29T03:17:08.095686Z"
    }
   },
   "cell_type": "code",
   "source": [
    "# 2-1-2 (metabolite-disease-metabolite)\n",
    "metabolite_disease_metabolite = generate_triplet_array(disease_metabolite_list, dtype=np.int16)\n",
    "metabolite_disease_metabolite[:, (0, 2)] += num_microbe + num_disease\n",
    "metabolite_disease_metabolite[:, 1] += num_microbe\n",
    "metabolite_disease_metabolite = lexicographical_sort(metabolite_disease_metabolite, [0, 2, 1])"
   ],
   "id": "3f831de0695fb140",
   "outputs": [],
   "execution_count": 42
  },
  {
   "metadata": {
    "ExecuteTime": {
     "end_time": "2024-12-29T03:20:24.943541Z",
     "start_time": "2024-12-29T03:20:17.223748Z"
    }
   },
   "cell_type": "code",
   "source": [
    "# 1-0-2-0-1 (disease-microbe-metabolite-microbe-disease)\n",
    "d_micro_meta_micro_d = generate_long_relationship_array(\n",
    "    relational_list=microbe_disease_list,\n",
    "    intermediate_triplet=microbe_metabolite_microbe,\n",
    "    num_offset2=num_microbe,\n",
    "    scaling_factor=0.2\n",
    ")\n",
    "\n",
    "d_micro_meta_micro_d = lexicographical_sort(d_micro_meta_micro_d, [0, 2, 1, 3, 4])"
   ],
   "id": "8b6370658055991b",
   "outputs": [],
   "execution_count": 44
  },
  {
   "metadata": {
    "ExecuteTime": {
     "end_time": "2024-12-29T03:20:45.084382Z",
     "start_time": "2024-12-29T03:20:24.946511Z"
    }
   },
   "cell_type": "code",
   "source": [
    "# 0-1-2-1-0 (microbe-disease-metabolite-disease-microbe)\n",
    "micro_d_meta_d_micro = generate_long_relationship_array(\n",
    "    relational_list=disease_microbe_list,\n",
    "    intermediate_triplet=disease_metabolite_disease,\n",
    "    num_offset1=num_microbe,\n",
    "    scaling_factor=0.2\n",
    ")\n",
    "\n",
    "micro_d_meta_d_micro = lexicographical_sort(micro_d_meta_d_micro, [0, 2, 1, 3, 4])"
   ],
   "id": "e028c68cc4a642ee",
   "outputs": [],
   "execution_count": 45
  },
  {
   "metadata": {
    "ExecuteTime": {
     "end_time": "2024-12-29T03:22:30.648915Z",
     "start_time": "2024-12-29T03:20:45.103411Z"
    }
   },
   "cell_type": "code",
   "source": [
    "# 0-2-1-2-0 (microbe-metabolite-disease-metabolite-microbe)\n",
    "micro_meta_d_meta_micro = generate_long_relationship_array(\n",
    "    relational_list=metabolite_microbe_list,\n",
    "    intermediate_triplet=metabolite_disease_metabolite,\n",
    "    num_offset1=(num_microbe + num_disease),\n",
    "    scaling_factor=0.2\n",
    ")\n",
    "\n",
    "micro_meta_d_meta_micro = lexicographical_sort(micro_meta_d_meta_micro, [0, 2, 1, 3, 4])"
   ],
   "id": "c6b2fcddd4e3fca8",
   "outputs": [],
   "execution_count": 46
  },
  {
   "metadata": {
    "ExecuteTime": {
     "end_time": "2024-12-29T03:22:52.986189Z",
     "start_time": "2024-12-29T03:22:30.683986Z"
    }
   },
   "cell_type": "code",
   "source": [
    "# 1-2-0-2-1 (disease-metabolite-microbe-metabolite-disease)\n",
    "d_meta_micro_meta_d = generate_long_relationship_array(\n",
    "    relational_list=metabolite_disease_list,\n",
    "    intermediate_triplet=metabolite_microbe_metabolite,\n",
    "    num_offset1=(num_microbe + num_disease),\n",
    "    num_offset2=num_microbe,\n",
    "    scaling_factor=0.2\n",
    ")\n",
    "\n",
    "d_meta_micro_meta_d = lexicographical_sort(d_meta_micro_meta_d, [0, 2, 1, 3, 4])"
   ],
   "id": "606d3bd83122e96e",
   "outputs": [],
   "execution_count": 47
  },
  {
   "metadata": {
    "ExecuteTime": {
     "end_time": "2024-12-29T03:25:49.735717Z",
     "start_time": "2024-12-29T03:23:21.570302Z"
    }
   },
   "cell_type": "code",
   "source": [
    "expected_metapaths = [\n",
    "    [(0, 1, 0), (0, 1, 2, 1, 0), (0, 2, 0), (0, 2, 1, 2, 0)],\n",
    "    [(1, 0, 1), (1, 0, 2, 0, 1), (1, 2, 0, 2, 1), (1, 2, 1)]\n",
    "]\n",
    "# create the directories if they do not exist\n",
    "for i in range(len(expected_metapaths)):\n",
    "    pathlib.Path(save_prefix + '{}'.format(i)).mkdir(parents=True, exist_ok=True)\n",
    "\n",
    "metapath_indices_mapping = {(0, 1, 0): microbe_disease_microbe,\n",
    "                            (0, 1, 2, 1, 0): micro_d_meta_d_micro,\n",
    "                            (0, 2, 0): microbe_metabolite_microbe,\n",
    "                            (0, 2, 1, 2, 0): micro_meta_d_meta_micro,\n",
    "                            (1, 0, 1): disease_microbe_disease,\n",
    "                            (1, 0, 2, 0, 1): d_micro_meta_micro_d,\n",
    "                            (1, 2, 0, 2, 1): d_meta_micro_meta_d,\n",
    "                            (1, 2, 1): disease_metabolite_disease,\n",
    "                            }\n",
    "\n",
    "# write all things\n",
    "target_idx_lists = [np.arange(num_microbe), np.arange(num_disease)]\n",
    "offset_list = [0, num_microbe]\n",
    "for i, metapaths in enumerate(expected_metapaths):\n",
    "    for metapath in metapaths:\n",
    "        edge_metapath_idx_array = metapath_indices_mapping[metapath]\n",
    "\n",
    "        with open(save_prefix + '{}/'.format(i) + '-'.join(map(str, metapath)) + '_idx.pickle', 'wb') as out_file:\n",
    "            target_metapaths_mapping = {}\n",
    "            left = 0\n",
    "            right = 0\n",
    "            for target_idx in target_idx_lists[i]:\n",
    "                while right < len(edge_metapath_idx_array) and edge_metapath_idx_array[right, 0] == target_idx + offset_list[i]:\n",
    "                    right += 1\n",
    "                target_metapaths_mapping[target_idx] = edge_metapath_idx_array[left:right, ::-1]\n",
    "                left = right\n",
    "            pickle.dump(target_metapaths_mapping, out_file)\n",
    "\n",
    "        #np.save(save_prefix + '{}/'.format(i) + '-'.join(map(str, metapath)) + '_idx.npy', edge_metapath_idx_array)\n",
    "\n",
    "        with open(save_prefix + '{}/'.format(i) + '-'.join(map(str, metapath)) + '.adjlist', 'w') as out_file:\n",
    "            left = 0\n",
    "            right = 0\n",
    "            for target_idx in target_idx_lists[i]:\n",
    "                while right < len(edge_metapath_idx_array) and edge_metapath_idx_array[right, 0] == target_idx + offset_list[i]:\n",
    "                    right += 1\n",
    "                neighbors = edge_metapath_idx_array[left:right, -1] - offset_list[i]\n",
    "                neighbors = list(map(str, neighbors))\n",
    "                if len(neighbors) > 0:\n",
    "                    out_file.write('{} '.format(target_idx) + ' '.join(neighbors) + '\\n')\n",
    "                else:\n",
    "                    out_file.write('{}\\n'.format(target_idx))\n",
    "                left = right"
   ],
   "id": "d76951216b9dc956",
   "outputs": [],
   "execution_count": 48
  },
  {
   "metadata": {
    "ExecuteTime": {
     "end_time": "2024-12-29T03:25:52.355918Z",
     "start_time": "2024-12-29T03:25:49.762964Z"
    }
   },
   "cell_type": "code",
   "source": [
    "scipy.sparse.save_npz(save_prefix + 'adjM.npz', scipy.sparse.csr_matrix(adjM))\n",
    "np.save(save_prefix + 'node_types.npy', type_mask)"
   ],
   "id": "48d8ab9b14b044d",
   "outputs": [],
   "execution_count": 49
  },
  {
   "metadata": {
    "ExecuteTime": {
     "end_time": "2024-12-29T03:25:52.403927Z",
     "start_time": "2024-12-29T03:25:52.391363Z"
    }
   },
   "cell_type": "code",
   "source": [
    "# output microbe_disease.npy\n",
    "microbe_disease = pd.read_csv('data/sampled/microbe_disease.dat', encoding='utf-8', delimiter='\\t', names=['MicrobeID', 'DiseaseID'])\n",
    "microbe_disease = microbe_disease[['MicrobeID', 'DiseaseID']].to_numpy()\n",
    "np.save(save_prefix + 'microbe_disease.npy', microbe_disease)"
   ],
   "id": "7673cb01284a6b79",
   "outputs": [],
   "execution_count": 50
  },
  {
   "metadata": {
    "ExecuteTime": {
     "end_time": "2024-12-29T05:48:32.174426Z",
     "start_time": "2024-12-29T05:48:26.129241Z"
    }
   },
   "cell_type": "code",
   "source": [
    "# output positive and negative samples for training, validation and testing\n",
    "\n",
    "np.random.seed(453289)\n",
    "save_prefix = 'data/sampled/preprocessed/'\n",
    "num_microbe = (micrometa[\"MicrobeIdx\"].max()+1).astype(np.int16)\n",
    "num_disease = (metad[\"DiseaseIdx\"].max()+1).astype(np.int16)\n",
    "microbe_disease = np.load('data/sampled/preprocessed/microbe_disease.npy')\n",
    "train_val_test_idx = np.load('data/sampled/preprocessed/micro_disease_train_val_test_idx.npz')\n",
    "train_idx = train_val_test_idx['train']\n",
    "val_idx = train_val_test_idx['val']\n",
    "test_idx = train_val_test_idx['test']\n",
    "\n",
    "neg_candidates = []\n",
    "counter = 0\n",
    "for i in range(num_microbe):\n",
    "    for j in range(num_disease):\n",
    "        if counter < len(microbe_disease):\n",
    "            if i == microbe_disease[counter, 0] and j ==microbe_disease[counter, 1]:\n",
    "                counter += 1\n",
    "            else:\n",
    "                neg_candidates.append([i, j])\n",
    "        else:\n",
    "            neg_candidates.append([i, j])\n",
    "neg_candidates = np.array(neg_candidates)\n",
    "\n",
    "idx = np.random.choice(len(neg_candidates), len(val_idx) + len(test_idx), replace=False)\n",
    "val_neg_candidates = neg_candidates[sorted(idx[:len(val_idx)])]\n",
    "test_neg_candidates = neg_candidates[sorted(idx[len(val_idx):])]\n",
    "\n",
    "train_microbe_disease = microbe_disease[train_idx]\n",
    "train_neg_candidates = []\n",
    "counter = 0\n",
    "for i in range(num_microbe):\n",
    "    for j in range(num_disease):\n",
    "        if counter < len(train_microbe_disease):\n",
    "            if i == train_microbe_disease[counter, 0] and j == train_microbe_disease[counter, 1]:\n",
    "                counter += 1\n",
    "            else:\n",
    "                train_neg_candidates.append([i, j])\n",
    "        else:\n",
    "            train_neg_candidates.append([i, j])\n",
    "train_neg_candidates = np.array(train_neg_candidates)\n",
    "\n",
    "# balance training negatives by sampling to match the number of positives\n",
    "train_neg_sampled = np.random.choice(\n",
    "    len(train_neg_candidates),\n",
    "    size=len(train_microbe_disease),  # match the number of positives\n",
    "    replace=False\n",
    ")\n",
    "train_neg_candidates = train_neg_candidates[train_neg_sampled]\n",
    "\n",
    "np.savez(save_prefix + 'train_val_test_neg_microbe_disease.npz',\n",
    "         train_neg_micro_dis=train_neg_candidates,\n",
    "         val_neg_micro_dis=val_neg_candidates,\n",
    "         test_neg_micro_dis=test_neg_candidates)\n",
    "np.savez(save_prefix + 'train_val_test_pos_microbe_disease.npz',\n",
    "         train_pos_micro_dis=microbe_disease[train_idx],\n",
    "         val_pos_micro_dis=microbe_disease[val_idx],\n",
    "         test_pos_micro_dis=microbe_disease[test_idx])"
   ],
   "id": "34e47836c3353386",
   "outputs": [],
   "execution_count": 53
  }
 ],
 "metadata": {
  "kernelspec": {
   "display_name": "Python 3",
   "language": "python",
   "name": "python3"
  },
  "language_info": {
   "codemirror_mode": {
    "name": "ipython",
    "version": 2
   },
   "file_extension": ".py",
   "mimetype": "text/x-python",
   "name": "python",
   "nbconvert_exporter": "python",
   "pygments_lexer": "ipython2",
   "version": "2.7.6"
  }
 },
 "nbformat": 4,
 "nbformat_minor": 5
}
