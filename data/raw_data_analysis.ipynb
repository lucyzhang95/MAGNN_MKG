{
 "cells": [
  {
   "cell_type": "code",
   "id": "initial_id",
   "metadata": {
    "collapsed": true,
    "ExecuteTime": {
     "end_time": "2025-02-07T10:31:20.546937Z",
     "start_time": "2025-02-07T10:31:19.109086Z"
    }
   },
   "source": [
    "import os\n",
    "from utils.data_preprocess_tools import (\n",
    "load_data,\n",
    "load_ncbi_taxdump,\n",
    "count_entity,\n",
    "map_microbe_name2taxid\n",
    ")\n",
    "import pandas as pd\n",
    "import re"
   ],
   "outputs": [],
   "execution_count": 1
  },
  {
   "metadata": {},
   "cell_type": "markdown",
   "source": "## Disbiome Microbial Data",
   "id": "c982a905ba75e163"
  },
  {
   "metadata": {
    "ExecuteTime": {
     "end_time": "2025-02-07T10:31:39.478805Z",
     "start_time": "2025-02-07T10:31:39.473801Z"
    }
   },
   "cell_type": "code",
   "source": "all_microbes = []",
   "id": "6ab4fcd5dbd257f7",
   "outputs": [],
   "execution_count": 2
  },
  {
   "metadata": {
    "ExecuteTime": {
     "end_time": "2025-02-07T10:31:41.361246Z",
     "start_time": "2025-02-07T10:31:41.358507Z"
    }
   },
   "cell_type": "code",
   "source": "disbiome_data_path = os.path.join(os.getcwd(), \"json\", \"disbiome_data.json\")",
   "id": "d66ec6c61e9a9d7a",
   "outputs": [],
   "execution_count": 3
  },
  {
   "metadata": {
    "ExecuteTime": {
     "end_time": "2025-02-07T10:31:45.207385Z",
     "start_time": "2025-02-07T10:31:45.103036Z"
    }
   },
   "cell_type": "code",
   "source": [
    "disbiome_data = load_data(disbiome_data_path)\n",
    "print(f\"{len(disbiome_data)} records in Disbiome database\")"
   ],
   "id": "73c083b4d8917a54",
   "outputs": [
    {
     "name": "stdout",
     "output_type": "stream",
     "text": [
      "10866 records in Disbiome database\n"
     ]
    }
   ],
   "execution_count": 4
  },
  {
   "metadata": {
    "ExecuteTime": {
     "end_time": "2025-02-07T10:31:46.832364Z",
     "start_time": "2025-02-07T10:31:46.824241Z"
    }
   },
   "cell_type": "code",
   "source": [
    "all_microbes.extend(rec[\"subject\"][\"taxid\"] for rec in disbiome_data if \"taxid\" in rec[\"subject\"])\n",
    "# 95 records have no taxids (10866-10771)\n",
    "print(\"Lenth of microbes with taxids:\", len(all_microbes))"
   ],
   "id": "31c1dfc2bc632ec",
   "outputs": [
    {
     "name": "stdout",
     "output_type": "stream",
     "text": [
      "Lenth of microbes with taxids: 10771\n"
     ]
    }
   ],
   "execution_count": 5
  },
  {
   "metadata": {},
   "cell_type": "markdown",
   "source": "***",
   "id": "98242d82fd6cdf40"
  },
  {
   "metadata": {},
   "cell_type": "markdown",
   "source": "## HMDB Microbial Data",
   "id": "d768447d8cc40b92"
  },
  {
   "metadata": {
    "ExecuteTime": {
     "end_time": "2025-01-24T06:46:16.119830Z",
     "start_time": "2025-01-24T06:46:16.116941Z"
    }
   },
   "cell_type": "code",
   "source": "hmdb_data_path = os.path.join(os.getcwd(), \"json\", \"hmdb_microbe_metabolites.json\")",
   "id": "23f9294940e193b1",
   "outputs": [],
   "execution_count": 31
  },
  {
   "metadata": {
    "ExecuteTime": {
     "end_time": "2025-01-24T06:46:16.943188Z",
     "start_time": "2025-01-24T06:46:16.935851Z"
    }
   },
   "cell_type": "code",
   "source": [
    "hmdb_data = load_data(hmdb_data_path)\n",
    "print(f\"{len(hmdb_data)} records in HMDB database\")"
   ],
   "id": "a75abd6275ee647f",
   "outputs": [
    {
     "name": "stdout",
     "output_type": "stream",
     "text": [
      "157 records in HMDB database\n"
     ]
    }
   ],
   "execution_count": 32
  },
  {
   "metadata": {
    "ExecuteTime": {
     "end_time": "2025-01-24T06:46:16.950227Z",
     "start_time": "2025-01-24T06:46:16.948129Z"
    }
   },
   "cell_type": "code",
   "source": [
    "microbes = []\n",
    "no_taxid = []\n",
    "for rec in hmdb_data:\n",
    "    if \"associated_microbes\" in rec:\n",
    "        for taxon in rec[\"associated_microbes\"]:\n",
    "            if \"taxid\" in taxon:\n",
    "                microbes.append(taxon[\"taxid\"])\n",
    "            else:\n",
    "                no_taxid.append(taxon[\"scientific_name\"])\n",
    "\n",
    "all_microbes.extend(microbes)\n",
    "print(f\"{len(microbes)} microbes with taxids\")\n",
    "print(f\"{len(set(no_taxid))} unique microbes with no taxids\")\n",
    "print(\"Length of microbes with taxids from disbiome and hmdb:\", len(all_microbes))"
   ],
   "id": "aef81711bbb25769",
   "outputs": [
    {
     "name": "stdout",
     "output_type": "stream",
     "text": [
      "474 microbes with taxids\n",
      "118 unique microbes with no taxids\n",
      "Length of microbes with taxids from disbiome and hmdb: 11245\n"
     ]
    }
   ],
   "execution_count": 33
  },
  {
   "metadata": {
    "ExecuteTime": {
     "end_time": "2025-01-24T06:46:24.023678Z",
     "start_time": "2025-01-24T06:46:18.522824Z"
    }
   },
   "cell_type": "code",
   "source": [
    "taxdump_path = os.path.join(\"..\", \"utils\", \"taxdump.tar.gz\")\n",
    "mapping_src = load_ncbi_taxdump(taxdump_path)"
   ],
   "id": "9d4b1f035b1a5488",
   "outputs": [],
   "execution_count": 34
  },
  {
   "metadata": {
    "ExecuteTime": {
     "end_time": "2025-01-24T06:46:34.923520Z",
     "start_time": "2025-01-24T06:46:24.032229Z"
    }
   },
   "cell_type": "code",
   "source": [
    "mapped_microbe_names = map_microbe_name2taxid(\n",
    "    mapping_src=mapping_src,\n",
    "    microbe_names=no_taxid,\n",
    "    unmapped_out_path=\"manual/012325_hmdb_microbe_names_notfound.csv\",\n",
    ")"
   ],
   "id": "631ad7603144a608",
   "outputs": [
    {
     "name": "stdout",
     "output_type": "stream",
     "text": [
      "count of unique microbial names to map: 118\n",
      "count of mapped unique microbial names: 61\n",
      "count of unmapped unique microbial names: 57\n",
      "Unmapped microbial names saved to: manual/012325_hmdb_microbe_names_notfound.csv\n"
     ]
    }
   ],
   "execution_count": 35
  },
  {
   "metadata": {
    "ExecuteTime": {
     "end_time": "2025-01-24T06:46:35.752415Z",
     "start_time": "2025-01-24T06:46:35.748639Z"
    }
   },
   "cell_type": "code",
   "source": [
    "hmdb_filled_taxid = pd.read_csv(\"manual/012325_hmdb_taxid_filled.csv\", sep=\",\", names=[\"microbe\", \"taxid\"])\n",
    "valid_taxids = hmdb_filled_taxid[\"taxid\"].apply(lambda x: x if str(x).isdigit() else None).dropna()\n",
    "all_microbes.extend(valid_taxids.astype(int).tolist())\n",
    "\n",
    "print(\"Length of microbes with taxids from disbiome, hmdb and hmdb filled:\", len(all_microbes))\n",
    "print(f\"{len(hmdb_filled_taxid)} microbes with taxids filled from hmdb.\")"
   ],
   "id": "66dcaaf360483bfd",
   "outputs": [
    {
     "name": "stdout",
     "output_type": "stream",
     "text": [
      "48 microbes with taxids\n"
     ]
    }
   ],
   "execution_count": 36
  },
  {
   "metadata": {
    "ExecuteTime": {
     "end_time": "2025-01-24T06:46:36.514153Z",
     "start_time": "2025-01-24T06:46:36.512422Z"
    }
   },
   "cell_type": "code",
   "source": [
    "all_microbes.extend(hmdb_filled_taxid[\"taxid\"].tolist())\n",
    "print(\"Length of microbes with taxids from disbiome, hmdb and hmdb filled:\", len(all_microbes))"
   ],
   "id": "82e802ca76eb34f2",
   "outputs": [
    {
     "name": "stdout",
     "output_type": "stream",
     "text": [
      "Length of microbes with taxids from disbiome, hmdb and hmdb filled: 11293\n"
     ]
    }
   ],
   "execution_count": 37
  },
  {
   "metadata": {},
   "cell_type": "markdown",
   "source": "***",
   "id": "e741e2b24c3eccdb"
  },
  {
   "metadata": {},
   "cell_type": "markdown",
   "source": "## GMMAD2 Microbial Data",
   "id": "a15c8ef327c55341"
  },
  {
   "metadata": {
    "ExecuteTime": {
     "end_time": "2025-01-24T06:48:12.410911Z",
     "start_time": "2025-01-24T06:48:12.406190Z"
    }
   },
   "cell_type": "code",
   "source": "gmmad2_data_path = os.path.join(os.getcwd(), \"json\", \"gmmad2_data.json\")",
   "id": "befe7403f9162ffd",
   "outputs": [],
   "execution_count": 38
  },
  {
   "metadata": {
    "ExecuteTime": {
     "end_time": "2025-01-24T06:48:33.069444Z",
     "start_time": "2025-01-24T06:48:17.474280Z"
    }
   },
   "cell_type": "code",
   "source": "gmmad2_data = load_data(gmmad2_data_path)",
   "id": "2be59f586314e2a",
   "outputs": [],
   "execution_count": 39
  },
  {
   "metadata": {
    "ExecuteTime": {
     "end_time": "2025-01-24T06:49:02.444235Z",
     "start_time": "2025-01-24T06:49:02.440848Z"
    }
   },
   "cell_type": "code",
   "source": "print(f\"{len(gmmad2_data)} records in GMMAD2 database\")",
   "id": "fa35a8865b002ab7",
   "outputs": [
    {
     "name": "stdout",
     "output_type": "stream",
     "text": [
      "1430490 records in GMMAD2 database\n"
     ]
    }
   ],
   "execution_count": 42
  },
  {
   "metadata": {
    "ExecuteTime": {
     "end_time": "2025-01-24T06:56:38.855275Z",
     "start_time": "2025-01-24T06:56:37.964012Z"
    }
   },
   "cell_type": "code",
   "source": [
    "microbes = []\n",
    "unmapped = []\n",
    "for rec in gmmad2_data:\n",
    "    if \"taxid\" in rec[\"subject\"]:\n",
    "        microbes.append(rec[\"subject\"][\"taxid\"])\n",
    "    else:\n",
    "        if \"biolink:Gene\" not in rec[\"object\"][\"type\"]:\n",
    "            unmapped.append(rec[\"subject\"][\"name\"])\n",
    "\n",
    "all_microbes.extend(microbes)\n",
    "print(f\"{len(microbes)} microbes with taxids in gmmad2\")\n",
    "print(f\"{len(set(unmapped))} unique microbes with no taxids in gmmad2\")"
   ],
   "id": "6c1942536d8e28f",
   "outputs": [
    {
     "name": "stdout",
     "output_type": "stream",
     "text": [
      "1372498 microbes with taxids in gmmad2\n",
      "113 unique microbes with no taxids in gmmad2\n"
     ]
    }
   ],
   "execution_count": 47
  },
  {
   "metadata": {
    "ExecuteTime": {
     "end_time": "2025-01-24T06:57:18.080072Z",
     "start_time": "2025-01-24T06:57:03.999916Z"
    }
   },
   "cell_type": "code",
   "source": [
    "mapped_microbe_names = map_microbe_name2taxid(\n",
    "    mapping_src=mapping_src,\n",
    "    microbe_names=unmapped,\n",
    "    unmapped_out_path=\"manual/012325_gmmad2_microbe_names_notfound.csv\",\n",
    ")"
   ],
   "id": "9316e9f5b37e4221",
   "outputs": [
    {
     "name": "stdout",
     "output_type": "stream",
     "text": [
      "count of unique microbial names to map: 113\n",
      "count of mapped unique microbial names: 0\n",
      "count of unmapped unique microbial names: 113\n",
      "Unmapped microbial names saved to: manual/012325_gmmad2_microbe_names_notfound.csv\n"
     ]
    }
   ],
   "execution_count": 48
  },
  {
   "metadata": {
    "ExecuteTime": {
     "end_time": "2025-01-24T06:59:12.688123Z",
     "start_time": "2025-01-24T06:59:12.683018Z"
    }
   },
   "cell_type": "code",
   "source": "print(f\"{len(all_microbes)} microbes with taxids from disbiome, hmdb and gmmad2\")",
   "id": "bea117dc78b804f5",
   "outputs": [
    {
     "name": "stdout",
     "output_type": "stream",
     "text": [
      "1383791 microbes with taxids from disbiome, hmdb and gmmad2\n"
     ]
    }
   ],
   "execution_count": 49
  },
  {
   "metadata": {
    "ExecuteTime": {
     "end_time": "2025-01-24T06:59:32.780905Z",
     "start_time": "2025-01-24T06:59:32.645836Z"
    }
   },
   "cell_type": "code",
   "source": [
    "unique_microbes = set(all_microbes)\n",
    "print(f\"{len(unique_microbes)} unique microbes with taxids from disbiome, hmdb and gmmad2\")"
   ],
   "id": "6c8753bc0ccb21e7",
   "outputs": [
    {
     "name": "stdout",
     "output_type": "stream",
     "text": [
      "8943 unique microbes with taxids from disbiome, hmdb and gmmad2\n"
     ]
    }
   ],
   "execution_count": 50
  },
  {
   "metadata": {},
   "cell_type": "markdown",
   "source": "## GMMAD2 Gene-Microbe Data",
   "id": "bf45a9ca4a953308"
  },
  {
   "metadata": {
    "ExecuteTime": {
     "end_time": "2025-01-24T20:44:05.209410Z",
     "start_time": "2025-01-24T20:44:03.662812Z"
    }
   },
   "cell_type": "code",
   "source": [
    "genes_edges = []\n",
    "genes = []\n",
    "for rec in gmmad2_data:\n",
    "    if \"biolink:Gene\" in rec[\"object\"][\"type\"]:\n",
    "        genes_edges.append(rec)\n",
    "        genes.append(rec[\"object\"][\"id\"])\n",
    "print(f\"{len(genes_edges)} records with Gene-Metabolite relationship\")\n",
    "print(f\"{len(set(genes))} unique genes\")"
   ],
   "id": "26924164d357c5b4",
   "outputs": [
    {
     "name": "stdout",
     "output_type": "stream",
     "text": [
      "53278 records with Gene-Metabolite relationship\n",
      "8200 unique genes\n"
     ]
    }
   ],
   "execution_count": 86
  },
  {
   "metadata": {
    "ExecuteTime": {
     "end_time": "2025-01-24T20:46:54.692979Z",
     "start_time": "2025-01-24T20:46:54.686118Z"
    }
   },
   "cell_type": "code",
   "source": [
    "# hmdb protein count\n",
    "proteins = []\n",
    "for rec in hmdb_data:\n",
    "    if \"associated_proteins\" in rec:\n",
    "        for protein in rec[\"associated_proteins\"]:\n",
    "            if \"name\" in protein:\n",
    "                proteins.append(protein[\"name\"])\n",
    "print(f\"{len(set(proteins))} unique proteins in HMDB database\")"
   ],
   "id": "b2e7bf7362a6879f",
   "outputs": [
    {
     "name": "stdout",
     "output_type": "stream",
     "text": [
      "535 unique proteins in HMDB database\n"
     ]
    }
   ],
   "execution_count": 88
  },
  {
   "metadata": {},
   "cell_type": "markdown",
   "source": "***",
   "id": "ea412b7dedf3064a"
  },
  {
   "metadata": {},
   "cell_type": "markdown",
   "source": "## count unique microbes",
   "id": "99b9b380fc12db8b"
  },
  {
   "metadata": {
    "ExecuteTime": {
     "end_time": "2025-01-24T07:02:31.965475Z",
     "start_time": "2025-01-24T07:02:31.951030Z"
    }
   },
   "cell_type": "code",
   "source": [
    "valid_microbes = []\n",
    "invalid_microbes = []\n",
    "\n",
    "for taxid in unique_microbes:\n",
    "    try:\n",
    "        valid_microbes.append(int(taxid))\n",
    "    except ValueError:\n",
    "        invalid_microbes.append(taxid)\n",
    "\n",
    "print(\"Invalid taxid entries:\", invalid_microbes)"
   ],
   "id": "571eb9aea6e7d014",
   "outputs": [
    {
     "name": "stdout",
     "output_type": "stream",
     "text": [
      "Invalid taxid entries: ['taxid']\n"
     ]
    }
   ],
   "execution_count": 53
  },
  {
   "metadata": {
    "ExecuteTime": {
     "end_time": "2025-01-24T07:06:23.182713Z",
     "start_time": "2025-01-24T07:06:23.124894Z"
    }
   },
   "cell_type": "code",
   "source": "unique_microbes = [int(taxid) for taxid in valid_microbes]",
   "id": "f0070f79b9aeb6bd",
   "outputs": [],
   "execution_count": 54
  },
  {
   "metadata": {
    "ExecuteTime": {
     "end_time": "2025-01-24T07:06:32.141288Z",
     "start_time": "2025-01-24T07:06:32.138286Z"
    }
   },
   "cell_type": "code",
   "source": "len(unique_microbes)",
   "id": "18d9a315893fa481",
   "outputs": [
    {
     "data": {
      "text/plain": [
       "8942"
      ]
     },
     "execution_count": 56,
     "metadata": {},
     "output_type": "execute_result"
    }
   ],
   "execution_count": 56
  },
  {
   "metadata": {
    "ExecuteTime": {
     "end_time": "2025-01-24T07:24:25.387163Z",
     "start_time": "2025-01-24T07:24:11.849377Z"
    }
   },
   "cell_type": "code",
   "source": [
    "import biothings_client as bt\n",
    "taxon = bt.get_client(\"taxon\")\n",
    "get_rank = taxon.querymany(unique_microbes, scopes=\"taxid\", fields=[\"rank\", \"lineage\"])"
   ],
   "id": "cdc532aa1468a2da",
   "outputs": [
    {
     "name": "stderr",
     "output_type": "stream",
     "text": [
      "Input sequence provided is already in string format. No operation performed\n",
      "40 input query terms found dup hits:\t[('33043', 2), ('294', 2), ('303', 2), ('435', 2), ('546', 2), ('1590', 2), ('659', 2), ('662', 2), \n",
      "114 input query terms found no hit:\t['417', '656024', '1114980', '1803179', '33961', '1551', '67281', '67295', '67334', '67354', '329527\n"
     ]
    }
   ],
   "execution_count": 68
  },
  {
   "metadata": {
    "ExecuteTime": {
     "end_time": "2025-01-24T07:25:56.398183Z",
     "start_time": "2025-01-24T07:25:56.387953Z"
    }
   },
   "cell_type": "code",
   "source": [
    "lineage = [lineage for item in get_rank if \"notfound\" not in item for lineage in item[\"lineage\"]]\n",
    "unique_lineage = set(lineage)\n",
    "unique_lineage = [int(lineage) for lineage in unique_lineage]\n",
    "print(f\"{len(unique_lineage)} unique lineages\")"
   ],
   "id": "a7595cc15ab99414",
   "outputs": [
    {
     "name": "stdout",
     "output_type": "stream",
     "text": [
      "12166 unique lineages\n"
     ]
    }
   ],
   "execution_count": 70
  },
  {
   "metadata": {
    "ExecuteTime": {
     "end_time": "2025-01-24T07:27:58.752540Z",
     "start_time": "2025-01-24T07:27:39.765144Z"
    }
   },
   "cell_type": "code",
   "source": [
    "get_rank = taxon.querymany(unique_lineage, scopes=\"taxid\", fields=[\"rank\"])\n",
    "get_rank = {item[\"query\"]: item[\"rank\"] for item in get_rank if \"notfound\" not in item}\n",
    "print(f\"{len(get_rank)} ranks found\")"
   ],
   "id": "7584062a4d676632",
   "outputs": [
    {
     "name": "stderr",
     "output_type": "stream",
     "text": [
      "Input sequence provided is already in string format. No operation performed\n"
     ]
    },
    {
     "name": "stdout",
     "output_type": "stream",
     "text": [
      "12166 ranks found\n"
     ]
    }
   ],
   "execution_count": 71
  },
  {
   "metadata": {
    "ExecuteTime": {
     "end_time": "2025-01-24T07:27:59.940621Z",
     "start_time": "2025-01-24T07:27:59.937998Z"
    }
   },
   "cell_type": "code",
   "source": [
    "from collections import Counter\n",
    "value_counts = Counter(get_rank.values())\n",
    "\n",
    "print(\"Occurrences of each value:\")\n",
    "for key, count in value_counts.items():\n",
    "    print(f\"{key}: {count}\")"
   ],
   "id": "d6106fafa639e0ce",
   "outputs": [
    {
     "name": "stdout",
     "output_type": "stream",
     "text": [
      "Occurrences of each value:\n",
      "species: 7208\n",
      "no rank: 517\n",
      "superkingdom: 4\n",
      "genus: 2113\n",
      "order: 304\n",
      "family: 679\n",
      "strain: 822\n",
      "subphylum: 14\n",
      "species group: 68\n",
      "phylum: 72\n",
      "clade: 68\n",
      "kingdom: 17\n",
      "subfamily: 19\n",
      "subspecies: 51\n",
      "suborder: 15\n",
      "infraclass: 2\n",
      "cohort: 2\n",
      "class: 137\n",
      "tribe: 5\n",
      "subgenus: 5\n",
      "biotype: 1\n",
      "serotype: 4\n",
      "species subgroup: 13\n",
      "superfamily: 2\n",
      "subclass: 14\n",
      "infraorder: 2\n",
      "section: 3\n",
      "isolate: 2\n",
      "subkingdom: 1\n",
      "serogroup: 1\n",
      "superorder: 1\n"
     ]
    }
   ],
   "execution_count": 72
  },
  {
   "metadata": {},
   "cell_type": "markdown",
   "source": "## Export data for R analysis",
   "id": "a0b4abdc21c1d2cc"
  },
  {
   "metadata": {
    "ExecuteTime": {
     "end_time": "2025-01-24T07:35:10.580071Z",
     "start_time": "2025-01-24T07:35:10.576217Z"
    }
   },
   "cell_type": "code",
   "source": [
    "new_rank_dict = {\"superkingdom\": 4, \"kingdom\": 17, \"phylum\": 72, \"class\": 137, \"order\": 304, \"family\": 679, \"genus\": 2113, \"species\": 7208, \"strain\": 822}\n",
    "old_rank_dict = {\"superkingdom\": 4, \"kingdom\": 11, \"phylum\": 58, \"class\": 103, \"order\": 200, \"family\": 380, \"genus\": 807, \"species\": 864}"
   ],
   "id": "f225c0cdc4aa72fd",
   "outputs": [],
   "execution_count": 73
  },
  {
   "metadata": {
    "ExecuteTime": {
     "end_time": "2025-01-24T07:35:14.993878Z",
     "start_time": "2025-01-24T07:35:14.990429Z"
    }
   },
   "cell_type": "code",
   "source": [
    "df = pd.DataFrame({\n",
    "    \"Rank\": new_rank_dict.keys(),\n",
    "    \"New_Count\": new_rank_dict.values(),\n",
    "    \"Old_Count\": [old_rank_dict.get(rank, 0) for rank in new_rank_dict.keys()]\n",
    "})"
   ],
   "id": "b7497db5ce0fc685",
   "outputs": [],
   "execution_count": 75
  },
  {
   "metadata": {
    "ExecuteTime": {
     "end_time": "2025-01-24T07:35:54.448808Z",
     "start_time": "2025-01-24T07:35:54.440979Z"
    }
   },
   "cell_type": "code",
   "source": [
    "csv_file_path = \"R_data/rank_comparison.csv\"\n",
    "df.to_csv(csv_file_path, index=False)"
   ],
   "id": "8cb13ebc84b7bf01",
   "outputs": [],
   "execution_count": 76
  },
  {
   "metadata": {
    "ExecuteTime": {
     "end_time": "2025-01-26T09:15:14.655807Z",
     "start_time": "2025-01-26T09:15:14.626990Z"
    }
   },
   "cell_type": "code",
   "source": [
    "old_relation_dict = {\"Microbe-Disease\": 8469, \"Microbe-AnatomicalLocation\": 3994, \"AnatomicalLocation-Metabolite\": 2158, \"Gene/Protein-Metabolite\": 1010, \"Disease-Metabolite\": 852, \"Pathway-Metabolite\": 836, \"Microbe-Metabolite\": 625}\n",
    "new_relation_dict = {\"Microbe-Disease\": 519007, \"Microbe-AnatomicalLocation\": 3994, \"AnatomicalLocation-Metabolite\": 2158, \"Gene/Protein-Metabolite\": 54288, \"Disease-Metabolite\": 27652, \"Pathway-Metabolite\": 836, \"Microbe-Metabolite\": 864982}"
   ],
   "id": "79ada28e7ffa3fd7",
   "outputs": [],
   "execution_count": 117
  },
  {
   "metadata": {
    "ExecuteTime": {
     "end_time": "2025-01-26T09:15:18.828029Z",
     "start_time": "2025-01-26T09:15:18.819642Z"
    }
   },
   "cell_type": "code",
   "source": [
    "df = pd.DataFrame({\n",
    "    \"Relation\": new_relation_dict.keys(),\n",
    "    \"New_Count\": new_relation_dict.values(),\n",
    "    \"Old_Count\": [old_relation_dict.get(relation, 0) for relation in new_relation_dict.keys()]\n",
    "})"
   ],
   "id": "aba70f47a8e71986",
   "outputs": [],
   "execution_count": 118
  },
  {
   "metadata": {
    "ExecuteTime": {
     "end_time": "2025-01-26T09:15:18.846795Z",
     "start_time": "2025-01-26T09:15:18.836326Z"
    }
   },
   "cell_type": "code",
   "source": [
    "csv_file_path = \"R_data/relation_comparison.csv\"\n",
    "df.to_csv(csv_file_path, index=False)"
   ],
   "id": "2c012ac53f6ad1f6",
   "outputs": [],
   "execution_count": 119
  },
  {
   "metadata": {
    "ExecuteTime": {
     "end_time": "2025-01-26T09:22:45.238315Z",
     "start_time": "2025-01-26T09:22:45.232428Z"
    }
   },
   "cell_type": "code",
   "source": [
    "full_relation_dict = {\"Microbe-Disease\": 519007, \"Disease-Metabolite\": 27652, \"Microbe-Metabolite\": 864982}\n",
    "model_relation_dict = {\"Microbe-Disease\": 513794, \"Disease-Metabolite\": 27546, \"Microbe-Metabolite\": 599801}"
   ],
   "id": "a4696871d8b5a18",
   "outputs": [],
   "execution_count": 123
  },
  {
   "metadata": {
    "ExecuteTime": {
     "end_time": "2025-01-26T09:22:47.022774Z",
     "start_time": "2025-01-26T09:22:47.020134Z"
    }
   },
   "cell_type": "code",
   "source": [
    "df = pd.DataFrame({\n",
    "    \"Relation\": full_relation_dict.keys(),\n",
    "    \"Full_Count\": full_relation_dict.values(),\n",
    "    \"Model_Count\": [model_relation_dict.get(relation, 0) for relation in full_relation_dict.keys()]\n",
    "})"
   ],
   "id": "7716bc585b7c6757",
   "outputs": [],
   "execution_count": 124
  },
  {
   "metadata": {
    "ExecuteTime": {
     "end_time": "2025-01-26T09:22:47.033974Z",
     "start_time": "2025-01-26T09:22:47.030251Z"
    }
   },
   "cell_type": "code",
   "source": [
    "csv_file_path = \"R_data/model_relation_comparison.csv\"\n",
    "df.to_csv(csv_file_path, index=False)"
   ],
   "id": "f53be616002120f1",
   "outputs": [],
   "execution_count": 125
  },
  {
   "metadata": {
    "ExecuteTime": {
     "end_time": "2025-01-24T21:14:44.496717Z",
     "start_time": "2025-01-24T21:14:44.486840Z"
    }
   },
   "cell_type": "code",
   "source": "unique_count = {\"Microbe\":8942, \"Disease\":898, \"Metabolite\": 23823, \"Gene/Protein\": 8735, \"Pathway\": 385, \"AnatomicalLocation\": 88}",
   "id": "cd841776b7b62483",
   "outputs": [],
   "execution_count": 114
  },
  {
   "metadata": {
    "ExecuteTime": {
     "end_time": "2025-01-24T21:14:46.592288Z",
     "start_time": "2025-01-24T21:14:46.584551Z"
    }
   },
   "cell_type": "code",
   "source": [
    "df = pd.DataFrame({\n",
    "    \"Node\": unique_count.keys(),\n",
    "    \"Count\": unique_count.values()\n",
    "})"
   ],
   "id": "9bb8b9d4f34861a8",
   "outputs": [],
   "execution_count": 115
  },
  {
   "metadata": {
    "ExecuteTime": {
     "end_time": "2025-01-24T21:14:47.735895Z",
     "start_time": "2025-01-24T21:14:47.728043Z"
    }
   },
   "cell_type": "code",
   "source": [
    "csv_file_path = \"R_data/node_count.csv\"\n",
    "df.to_csv(csv_file_path, index=False)"
   ],
   "id": "4c3fabfaa1f67985",
   "outputs": [],
   "execution_count": 116
  },
  {
   "metadata": {},
   "cell_type": "markdown",
   "source": "## count unique pathways",
   "id": "2ad5adc95714246f"
  },
  {
   "metadata": {
    "ExecuteTime": {
     "end_time": "2025-01-24T20:49:57.307440Z",
     "start_time": "2025-01-24T20:49:57.301585Z"
    }
   },
   "cell_type": "code",
   "source": [
    "pathways = []\n",
    "for rec in hmdb_data:\n",
    "    if \"associated_pathways\" in rec:\n",
    "        for pathway in rec[\"associated_pathways\"]:\n",
    "            if \"name\" in pathway:\n",
    "                pathways.append(pathway[\"name\"])\n",
    "print(f\"{len(set(pathways))} unique pathways in HMDB database\")"
   ],
   "id": "32a169308523791b",
   "outputs": [
    {
     "name": "stdout",
     "output_type": "stream",
     "text": [
      "385 unique pathways in HMDB database\n"
     ]
    }
   ],
   "execution_count": 90
  },
  {
   "metadata": {},
   "cell_type": "markdown",
   "source": "## count unique anatomical locations",
   "id": "ee6721df7c6b68df"
  },
  {
   "metadata": {
    "ExecuteTime": {
     "end_time": "2025-01-24T21:02:23.096488Z",
     "start_time": "2025-01-24T21:02:23.080433Z"
    }
   },
   "cell_type": "code",
   "source": [
    "# disbiome anatomical locations\n",
    "analocs = [rec[\"association\"][\"sources\"] for rec in disbiome_data if \"sources\" in rec[\"association\"]]\n",
    "print(f\"{len(set(analocs))} unique anatomical locations in Disbiome database\")"
   ],
   "id": "3fc4c1cbd2eb5bec",
   "outputs": [
    {
     "name": "stdout",
     "output_type": "stream",
     "text": [
      "88 unique anatomical locations in Disbiome database\n"
     ]
    }
   ],
   "execution_count": 110
  },
  {
   "metadata": {
    "ExecuteTime": {
     "end_time": "2025-01-24T21:02:24.692064Z",
     "start_time": "2025-01-24T21:02:24.681477Z"
    }
   },
   "cell_type": "code",
   "source": [
    "# hmdb anatomical locations\n",
    "for rec in hmdb_data:\n",
    "    if \"sources\" in rec:\n",
    "        for source in rec[\"sources\"]:\n",
    "            analocs.extend(source)\n",
    "\n",
    "filtered_analocs = [loc for loc in set(analocs) if len(loc) > 1]\n",
    "print(f\"{len(set(filtered_analocs))} unique anatomical locations in Disbiome and HMDB database\")"
   ],
   "id": "361a98016704a3a0",
   "outputs": [
    {
     "name": "stdout",
     "output_type": "stream",
     "text": [
      "88 unique anatomical locations in Disbiome and HMDB database\n"
     ]
    }
   ],
   "execution_count": 111
  }
 ],
 "metadata": {
  "kernelspec": {
   "display_name": "Python 3 (ipykernel)",
   "language": "python",
   "name": "python3"
  },
  "language_info": {
   "codemirror_mode": {
    "name": "ipython",
    "version": 2
   },
   "file_extension": ".py",
   "mimetype": "text/x-python",
   "name": "python",
   "nbconvert_exporter": "python",
   "pygments_lexer": "ipython2",
   "version": "2.7.6"
  }
 },
 "nbformat": 4,
 "nbformat_minor": 5
}
